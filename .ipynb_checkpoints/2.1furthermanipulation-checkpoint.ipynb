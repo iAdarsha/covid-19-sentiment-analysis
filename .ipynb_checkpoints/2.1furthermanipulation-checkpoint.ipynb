{
 "cells": [
  {
   "cell_type": "code",
   "execution_count": 1,
   "id": "fe9ae66f",
   "metadata": {},
   "outputs": [],
   "source": [
    "import pandas as pd"
   ]
  },
  {
   "cell_type": "code",
   "execution_count": 2,
   "id": "e5e4614d",
   "metadata": {},
   "outputs": [],
   "source": [
    "tweets_df = pd.read_csv('1.2-scraped-tweets.csv', header=None)"
   ]
  },
  {
   "cell_type": "code",
   "execution_count": 3,
   "id": "700f4c06",
   "metadata": {},
   "outputs": [
    {
     "data": {
      "text/html": [
       "<div>\n",
       "<style scoped>\n",
       "    .dataframe tbody tr th:only-of-type {\n",
       "        vertical-align: middle;\n",
       "    }\n",
       "\n",
       "    .dataframe tbody tr th {\n",
       "        vertical-align: top;\n",
       "    }\n",
       "\n",
       "    .dataframe thead th {\n",
       "        text-align: right;\n",
       "    }\n",
       "</style>\n",
       "<table border=\"1\" class=\"dataframe\">\n",
       "  <thead>\n",
       "    <tr style=\"text-align: right;\">\n",
       "      <th></th>\n",
       "      <th>0</th>\n",
       "    </tr>\n",
       "  </thead>\n",
       "  <tbody>\n",
       "    <tr>\n",
       "      <th>0</th>\n",
       "      <td>जुम्राको उत्पति को कथा त कास्टिङ मात्र हो हेर्...</td>\n",
       "    </tr>\n",
       "    <tr>\n",
       "      <th>1</th>\n",
       "      <td>स्याङ्जाको पुतलीबजार नगरपालिका गण्डकी प्रदेशको...</td>\n",
       "    </tr>\n",
       "    <tr>\n",
       "      <th>2</th>\n",
       "      <td>फेक मिडिया गरेर दुनियाँमा अफबाह फैलाउनेलाई भाट...</td>\n",
       "    </tr>\n",
       "    <tr>\n",
       "      <th>3</th>\n",
       "      <td>चाइनाने कोरोना फैलाउछ र किटमास्क बेच्छ अमेरिका...</td>\n",
       "    </tr>\n",
       "    <tr>\n",
       "      <th>4</th>\n",
       "      <td>जोर र बिजोर ले अर्थतन्त्र लाईन मा आउने भए तेत्...</td>\n",
       "    </tr>\n",
       "  </tbody>\n",
       "</table>\n",
       "</div>"
      ],
      "text/plain": [
       "                                                   0\n",
       "0  जुम्राको उत्पति को कथा त कास्टिङ मात्र हो हेर्...\n",
       "1  स्याङ्जाको पुतलीबजार नगरपालिका गण्डकी प्रदेशको...\n",
       "2  फेक मिडिया गरेर दुनियाँमा अफबाह फैलाउनेलाई भाट...\n",
       "3  चाइनाने कोरोना फैलाउछ र किटमास्क बेच्छ अमेरिका...\n",
       "4  जोर र बिजोर ले अर्थतन्त्र लाईन मा आउने भए तेत्..."
      ]
     },
     "execution_count": 3,
     "metadata": {},
     "output_type": "execute_result"
    }
   ],
   "source": [
    "tweets_df.head()"
   ]
  },
  {
   "cell_type": "code",
   "execution_count": 4,
   "id": "c1c42ccb",
   "metadata": {},
   "outputs": [],
   "source": [
    "tweets_df.columns = [\"tweets\"]"
   ]
  },
  {
   "cell_type": "code",
   "execution_count": 5,
   "id": "55e46e4d",
   "metadata": {},
   "outputs": [
    {
     "data": {
      "text/plain": [
       "(28575, 1)"
      ]
     },
     "execution_count": 5,
     "metadata": {},
     "output_type": "execute_result"
    }
   ],
   "source": [
    "tweets_df = tweets_df.dropna()\n",
    "tweets_df = tweets_df.drop_duplicates(subset=['tweets'], keep='first')\n",
    "tweets_df.shape"
   ]
  },
  {
   "cell_type": "code",
   "execution_count": 6,
   "id": "845ff3e2",
   "metadata": {},
   "outputs": [
    {
     "data": {
      "text/html": [
       "<div>\n",
       "<style scoped>\n",
       "    .dataframe tbody tr th:only-of-type {\n",
       "        vertical-align: middle;\n",
       "    }\n",
       "\n",
       "    .dataframe tbody tr th {\n",
       "        vertical-align: top;\n",
       "    }\n",
       "\n",
       "    .dataframe thead th {\n",
       "        text-align: right;\n",
       "    }\n",
       "</style>\n",
       "<table border=\"1\" class=\"dataframe\">\n",
       "  <thead>\n",
       "    <tr style=\"text-align: right;\">\n",
       "      <th></th>\n",
       "      <th>tweets</th>\n",
       "    </tr>\n",
       "  </thead>\n",
       "  <tbody>\n",
       "    <tr>\n",
       "      <th>0</th>\n",
       "      <td>जुम्राको उत्पति को कथा त कास्टिङ मात्र हो हेर्...</td>\n",
       "    </tr>\n",
       "    <tr>\n",
       "      <th>1</th>\n",
       "      <td>स्याङ्जाको पुतलीबजार नगरपालिका गण्डकी प्रदेशको...</td>\n",
       "    </tr>\n",
       "    <tr>\n",
       "      <th>2</th>\n",
       "      <td>फेक मिडिया गरेर दुनियाँमा अफबाह फैलाउनेलाई भाट...</td>\n",
       "    </tr>\n",
       "    <tr>\n",
       "      <th>3</th>\n",
       "      <td>चाइनाने कोरोना फैलाउछ र किटमास्क बेच्छ अमेरिका...</td>\n",
       "    </tr>\n",
       "    <tr>\n",
       "      <th>4</th>\n",
       "      <td>जोर र बिजोर ले अर्थतन्त्र लाईन मा आउने भए तेत्...</td>\n",
       "    </tr>\n",
       "  </tbody>\n",
       "</table>\n",
       "</div>"
      ],
      "text/plain": [
       "                                              tweets\n",
       "0  जुम्राको उत्पति को कथा त कास्टिङ मात्र हो हेर्...\n",
       "1  स्याङ्जाको पुतलीबजार नगरपालिका गण्डकी प्रदेशको...\n",
       "2  फेक मिडिया गरेर दुनियाँमा अफबाह फैलाउनेलाई भाट...\n",
       "3  चाइनाने कोरोना फैलाउछ र किटमास्क बेच्छ अमेरिका...\n",
       "4  जोर र बिजोर ले अर्थतन्त्र लाईन मा आउने भए तेत्..."
      ]
     },
     "execution_count": 6,
     "metadata": {},
     "output_type": "execute_result"
    }
   ],
   "source": [
    "tweets_df = tweets_df.reset_index(drop=False)\n",
    "tweets_df.drop('index', inplace=True, axis=1)\n",
    "tweets_df.head()"
   ]
  },
  {
   "cell_type": "code",
   "execution_count": 7,
   "id": "48e4f32b",
   "metadata": {},
   "outputs": [],
   "source": [
    "with open('stop_words.txt', encoding=\"utf-8\") as f:\n",
    "    words = [line.strip() for line in f]\n",
    "stop_words = set(words)"
   ]
  },
  {
   "cell_type": "code",
   "execution_count": 8,
   "id": "c1548e4c",
   "metadata": {},
   "outputs": [],
   "source": [
    "from inltk.inltk import tokenize\n",
    "def removeAndTokenize(text):\n",
    "#     tokens = tokenize(text, 'ne')\n",
    "    tokens = [word.replace('▁', '') for word in tokenize(text, 'ne')]\n",
    "    tokens = [word for word in tokens if word not in stop_words]\n",
    "    return \" \".join(tokens)"
   ]
  },
  {
   "cell_type": "code",
   "execution_count": null,
   "id": "3d4526fc",
   "metadata": {},
   "outputs": [],
   "source": [
    "tweets_df['cleaned_tweets'] = tweets_df['tweets'].apply(lambda x: removeAndTokenize(x))"
   ]
  },
  {
   "cell_type": "code",
   "execution_count": null,
   "id": "c0a5465d",
   "metadata": {},
   "outputs": [],
   "source": [
    "tweets_df.head()"
   ]
  },
  {
   "cell_type": "code",
   "execution_count": null,
   "id": "c6e8bb95",
   "metadata": {},
   "outputs": [],
   "source": [
    "tweets_df.to_csv('2.2-unlabelled-tweets.csv', index=False)"
   ]
  }
 ],
 "metadata": {
  "interpreter": {
   "hash": "3b3361eea9ad770e1b9ddf2a02c07134d9907bc8d69d7867e0b684ae753730c4"
  },
  "kernelspec": {
   "display_name": "Python 3 (ipykernel)",
   "language": "python",
   "name": "python3"
  },
  "language_info": {
   "codemirror_mode": {
    "name": "ipython",
    "version": 3
   },
   "file_extension": ".py",
   "mimetype": "text/x-python",
   "name": "python",
   "nbconvert_exporter": "python",
   "pygments_lexer": "ipython3",
   "version": "3.9.12"
  }
 },
 "nbformat": 4,
 "nbformat_minor": 5
}
