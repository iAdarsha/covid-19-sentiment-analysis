{
 "cells": [
  {
   "cell_type": "code",
   "execution_count": 1,
   "id": "ea0ee00e",
   "metadata": {},
   "outputs": [],
   "source": [
    "# Essentials\n",
    "import pandas as pd\n",
    "import numpy as np\n",
    "\n",
    "# Sk learn utilities\n",
    "from sklearn.model_selection import train_test_split\n",
    "from sklearn.feature_extraction.text import TfidfVectorizer\n",
    "from sklearn.pipeline import Pipeline\n",
    "from sklearn.metrics import accuracy_score\n",
    "from sklearn.metrics import classification_report\n",
    "\n",
    "# Clasification algorithms\n",
    "from sklearn.svm import SVC\n",
    "from sklearn.naive_bayes import BernoulliNB\n",
    "from sklearn.linear_model import LogisticRegression\n",
    "from sklearn.tree import DecisionTreeClassifier\n",
    "from sklearn.ensemble import RandomForestClassifier\n",
    "from sklearn.neighbors import KNeighborsClassifier\n",
    "from xgboost import XGBClassifier\n",
    "from sklearn.neural_network import MLPClassifier\n",
    "\n",
    "#lstm utilities\n",
    "from keras.models import Sequential\n",
    "from keras.layers import Dense\n",
    "from keras.layers import LSTM\n",
    "from keras.layers import Dropout\n",
    "from tensorflow.keras.layers import Embedding\n",
    "from keras.layers.convolutional import Conv1D\n",
    "from keras.layers.convolutional import MaxPooling1D\n",
    "from keras.utils import pad_sequences\n",
    "from keras.preprocessing.text import Tokenizer\n",
    "from sklearn.preprocessing import LabelEncoder"
   ]
  },
  {
   "cell_type": "code",
   "execution_count": 18,
   "id": "1ca64589",
   "metadata": {},
   "outputs": [
    {
     "data": {
      "text/html": [
       "<div>\n",
       "<style scoped>\n",
       "    .dataframe tbody tr th:only-of-type {\n",
       "        vertical-align: middle;\n",
       "    }\n",
       "\n",
       "    .dataframe tbody tr th {\n",
       "        vertical-align: top;\n",
       "    }\n",
       "\n",
       "    .dataframe thead th {\n",
       "        text-align: right;\n",
       "    }\n",
       "</style>\n",
       "<table border=\"1\" class=\"dataframe\">\n",
       "  <thead>\n",
       "    <tr style=\"text-align: right;\">\n",
       "      <th></th>\n",
       "      <th>tweets</th>\n",
       "      <th>cleaned_tweets</th>\n",
       "      <th>label</th>\n",
       "    </tr>\n",
       "  </thead>\n",
       "  <tbody>\n",
       "    <tr>\n",
       "      <th>0</th>\n",
       "      <td>जुम्राको उत्पति को कथा त कास्टिङ मात्र हो हेर्...</td>\n",
       "      <td>जु म् रा उत्पति कथा स्ट िङ हेर्दै स दुनिया  ुव...</td>\n",
       "      <td>0</td>\n",
       "    </tr>\n",
       "    <tr>\n",
       "      <th>1</th>\n",
       "      <td>स्याङ्जाको पुतलीबजार नगरपालिका गण्डकी प्रदेशको...</td>\n",
       "      <td>स्याङ्जा पुतलीबजार नगरपालिका गण्डकी प्रदेश भि ...</td>\n",
       "      <td>1</td>\n",
       "    </tr>\n",
       "    <tr>\n",
       "      <th>2</th>\n",
       "      <td>फेक मिडिया गरेर दुनियाँमा अफबाह फैलाउनेलाई भाट...</td>\n",
       "      <td>फे क मिडिया दुनियाँ अफ बाह फैल ाउने भा टा हान ...</td>\n",
       "      <td>0</td>\n",
       "    </tr>\n",
       "    <tr>\n",
       "      <th>3</th>\n",
       "      <td>चाइनाने कोरोना फैलाउछ र किटमास्क बेच्छ अमेरिका...</td>\n",
       "      <td>चाइना ने रो ना फैल ाउछ ट स्क बे च्छ अमेरिका य...</td>\n",
       "      <td>0</td>\n",
       "    </tr>\n",
       "    <tr>\n",
       "      <th>4</th>\n",
       "      <td>जोर र बिजोर ले अर्थतन्त्र लाईन मा आउने भए तेत्...</td>\n",
       "      <td>जोर बि जोर  अर्थतन्त्र लाईन आउने ते त्रो रो ना...</td>\n",
       "      <td>0</td>\n",
       "    </tr>\n",
       "  </tbody>\n",
       "</table>\n",
       "</div>"
      ],
      "text/plain": [
       "                                              tweets  \\\n",
       "0  जुम्राको उत्पति को कथा त कास्टिङ मात्र हो हेर्...   \n",
       "1  स्याङ्जाको पुतलीबजार नगरपालिका गण्डकी प्रदेशको...   \n",
       "2  फेक मिडिया गरेर दुनियाँमा अफबाह फैलाउनेलाई भाट...   \n",
       "3  चाइनाने कोरोना फैलाउछ र किटमास्क बेच्छ अमेरिका...   \n",
       "4  जोर र बिजोर ले अर्थतन्त्र लाईन मा आउने भए तेत्...   \n",
       "\n",
       "                                      cleaned_tweets  label  \n",
       "0  जु म् रा उत्पति कथा स्ट िङ हेर्दै स दुनिया  ुव...      0  \n",
       "1  स्याङ्जा पुतलीबजार नगरपालिका गण्डकी प्रदेश भि ...      1  \n",
       "2  फे क मिडिया दुनियाँ अफ बाह फैल ाउने भा टा हान ...      0  \n",
       "3   चाइना ने रो ना फैल ाउछ ट स्क बे च्छ अमेरिका य...      0  \n",
       "4  जोर बि जोर  अर्थतन्त्र लाईन आउने ते त्रो रो ना...      0  "
      ]
     },
     "execution_count": 18,
     "metadata": {},
     "output_type": "execute_result"
    }
   ],
   "source": [
    "tweets_df = pd.read_csv('3.1-labelled-tweets.csv')\n",
    "tweets_df.head()\n"
   ]
  },
  {
   "cell_type": "code",
   "execution_count": 19,
   "id": "d19bc08c",
   "metadata": {},
   "outputs": [],
   "source": [
    "features = tweets_df['cleaned_tweets']\n",
    "labels = tweets_df['label'].astype(\"int\")"
   ]
  },
  {
   "cell_type": "code",
   "execution_count": 20,
   "id": "89ea4989",
   "metadata": {},
   "outputs": [],
   "source": [
    "feature_train, feature_test, label_train, label_test = train_test_split(features, labels, test_size=0.25, random_state=42)"
   ]
  },
  {
   "cell_type": "code",
   "execution_count": 21,
   "id": "64d4c8c0",
   "metadata": {},
   "outputs": [
    {
     "name": "stdout",
     "output_type": "stream",
     "text": [
      "The no of Training data:  21431\n",
      "The no of Testing data: 7144\n"
     ]
    }
   ],
   "source": [
    "print(\"The no of Training data: \", feature_train.shape[0])\n",
    "print(\"The no of Testing data:\",feature_test.shape[0])"
   ]
  },
  {
   "cell_type": "code",
   "execution_count": 6,
   "id": "6739c58a",
   "metadata": {},
   "outputs": [],
   "source": [
    "svm_model = Pipeline([('vect', TfidfVectorizer()), ('model', SVC())])\n",
    "lr_model = Pipeline([('vect', TfidfVectorizer()), ('model', LogisticRegression())])\n",
    "nb_model = Pipeline([('vect', TfidfVectorizer()), ('model', BernoulliNB())])\n",
    "xgb_model = Pipeline([('vect', TfidfVectorizer()), ('model', XGBClassifier(objective=\"binary:logistic\", random_state=42))])\n",
    "mlp_model = Pipeline([('vect', TfidfVectorizer()), ('model', MLPClassifier(random_state=42))])\n",
    "kn_model = Pipeline([('vect', TfidfVectorizer()), ('model', KNeighborsClassifier())])\n",
    "dt_model = Pipeline([('vect', TfidfVectorizer()), ('model', DecisionTreeClassifier())])\n",
    "rf_model = Pipeline([('vect', TfidfVectorizer()), ('model', RandomForestClassifier())])\n"
   ]
  },
  {
   "cell_type": "code",
   "execution_count": 7,
   "id": "85f76f9b",
   "metadata": {},
   "outputs": [
    {
     "name": "stdout",
     "output_type": "stream",
     "text": [
      "================================================================================================================\n",
      "# Support Vector Machine \n",
      "---------------------------------\n",
      "Accuracy:  0.7842945128779395\n",
      "Classification report \n",
      "---------------------------------\n",
      "              precision    recall  f1-score   support\n",
      "\n",
      "           0       0.79      0.74      0.76      3386\n",
      "           1       0.78      0.83      0.80      3758\n",
      "\n",
      "    accuracy                           0.78      7144\n",
      "   macro avg       0.79      0.78      0.78      7144\n",
      "weighted avg       0.78      0.78      0.78      7144\n",
      "\n",
      "Manual Prediction \n",
      "---------------------------------\n",
      "हामिले कोरोना लागेको मान्छेलाई सहयोग गर्नुपर्छ Positive\n",
      "कोरोना ले कैयों को जागिर खोसिदियो Negative\n",
      "कोरोनाले ज्यान लियो Negative\n",
      "\n",
      "================================================================================================================\n",
      "================================================================================================================\n",
      "# Linear Regression \n",
      "---------------------------------\n",
      "Accuracy:  0.7516797312430011\n",
      "Classification report \n",
      "---------------------------------\n",
      "              precision    recall  f1-score   support\n",
      "\n",
      "           0       0.75      0.71      0.73      3386\n",
      "           1       0.75      0.79      0.77      3758\n",
      "\n",
      "    accuracy                           0.75      7144\n",
      "   macro avg       0.75      0.75      0.75      7144\n",
      "weighted avg       0.75      0.75      0.75      7144\n",
      "\n",
      "Manual Prediction \n",
      "---------------------------------\n",
      "हामिले कोरोना लागेको मान्छेलाई सहयोग गर्नुपर्छ Positive\n",
      "कोरोना ले कैयों को जागिर खोसिदियो Positive\n",
      "कोरोनाले ज्यान लियो Positive\n",
      "\n",
      "================================================================================================================\n",
      "================================================================================================================\n",
      "# Nayve Bayes \n",
      "---------------------------------\n",
      "Accuracy:  0.7113661814109743\n",
      "Classification report \n",
      "---------------------------------\n",
      "              precision    recall  f1-score   support\n",
      "\n",
      "           0       0.68      0.73      0.70      3386\n",
      "           1       0.74      0.70      0.72      3758\n",
      "\n",
      "    accuracy                           0.71      7144\n",
      "   macro avg       0.71      0.71      0.71      7144\n",
      "weighted avg       0.71      0.71      0.71      7144\n",
      "\n",
      "Manual Prediction \n",
      "---------------------------------\n",
      "हामिले कोरोना लागेको मान्छेलाई सहयोग गर्नुपर्छ Positive\n",
      "कोरोना ले कैयों को जागिर खोसिदियो Negative\n",
      "कोरोनाले ज्यान लियो Negative\n",
      "\n",
      "================================================================================================================\n",
      "================================================================================================================\n",
      "XGB classifier \n",
      "---------------------------------\n",
      "Accuracy:  0.7472004479283315\n",
      "Classification report \n",
      "---------------------------------\n",
      "              precision    recall  f1-score   support\n",
      "\n",
      "           0       0.77      0.67      0.72      3386\n",
      "           1       0.73      0.82      0.77      3758\n",
      "\n",
      "    accuracy                           0.75      7144\n",
      "   macro avg       0.75      0.74      0.74      7144\n",
      "weighted avg       0.75      0.75      0.75      7144\n",
      "\n",
      "Manual Prediction \n",
      "---------------------------------\n",
      "हामिले कोरोना लागेको मान्छेलाई सहयोग गर्नुपर्छ Positive\n",
      "कोरोना ले कैयों को जागिर खोसिदियो Positive\n",
      "कोरोनाले ज्यान लियो Positive\n",
      "\n",
      "================================================================================================================\n",
      "================================================================================================================\n",
      "# MLP classifier \n",
      "---------------------------------\n",
      "Accuracy:  0.7669372900335947\n",
      "Classification report \n",
      "---------------------------------\n",
      "              precision    recall  f1-score   support\n",
      "\n",
      "           0       0.76      0.74      0.75      3386\n",
      "           1       0.77      0.79      0.78      3758\n",
      "\n",
      "    accuracy                           0.77      7144\n",
      "   macro avg       0.77      0.77      0.77      7144\n",
      "weighted avg       0.77      0.77      0.77      7144\n",
      "\n",
      "Manual Prediction \n",
      "---------------------------------\n",
      "हामिले कोरोना लागेको मान्छेलाई सहयोग गर्नुपर्छ Positive\n",
      "कोरोना ले कैयों को जागिर खोसिदियो Negative\n",
      "कोरोनाले ज्यान लियो Negative\n",
      "\n",
      "================================================================================================================\n",
      "================================================================================================================\n",
      "# K Neighbors \n",
      "---------------------------------\n",
      "Accuracy:  0.7001679731243001\n",
      "Classification report \n",
      "---------------------------------\n",
      "              precision    recall  f1-score   support\n",
      "\n",
      "           0       0.66      0.74      0.70      3386\n",
      "           1       0.74      0.66      0.70      3758\n",
      "\n",
      "    accuracy                           0.70      7144\n",
      "   macro avg       0.70      0.70      0.70      7144\n",
      "weighted avg       0.70      0.70      0.70      7144\n",
      "\n",
      "Manual Prediction \n",
      "---------------------------------\n",
      "हामिले कोरोना लागेको मान्छेलाई सहयोग गर्नुपर्छ Positive\n",
      "कोरोना ले कैयों को जागिर खोसिदियो Negative\n",
      "कोरोनाले ज्यान लियो Negative\n",
      "\n",
      "================================================================================================================\n",
      "================================================================================================================\n",
      "# Decision Tree \n",
      "---------------------------------\n",
      "Accuracy:  0.6970884658454647\n",
      "Classification report \n",
      "---------------------------------\n",
      "              precision    recall  f1-score   support\n",
      "\n",
      "           0       0.68      0.69      0.68      3386\n",
      "           1       0.72      0.70      0.71      3758\n",
      "\n",
      "    accuracy                           0.70      7144\n",
      "   macro avg       0.70      0.70      0.70      7144\n",
      "weighted avg       0.70      0.70      0.70      7144\n",
      "\n",
      "Manual Prediction \n",
      "---------------------------------\n",
      "हामिले कोरोना लागेको मान्छेलाई सहयोग गर्नुपर्छ Positive\n",
      "कोरोना ले कैयों को जागिर खोसिदियो Negative\n",
      "कोरोनाले ज्यान लियो Negative\n",
      "\n",
      "================================================================================================================\n",
      "================================================================================================================\n",
      "# Random Forest \n",
      "---------------------------------\n",
      "Accuracy:  0.7637178051511758\n",
      "Classification report \n",
      "---------------------------------\n",
      "              precision    recall  f1-score   support\n",
      "\n",
      "           0       0.79      0.68      0.73      3386\n",
      "           1       0.75      0.84      0.79      3758\n",
      "\n",
      "    accuracy                           0.76      7144\n",
      "   macro avg       0.77      0.76      0.76      7144\n",
      "weighted avg       0.77      0.76      0.76      7144\n",
      "\n",
      "Manual Prediction \n",
      "---------------------------------\n",
      "हामिले कोरोना लागेको मान्छेलाई सहयोग गर्नुपर्छ Positive\n",
      "कोरोना ले कैयों को जागिर खोसिदियो Negative\n",
      "कोरोनाले ज्यान लियो Negative\n",
      "\n",
      "================================================================================================================\n"
     ]
    }
   ],
   "source": [
    "models = [svm_model, lr_model, nb_model, xgb_model, mlp_model, kn_model, dt_model, rf_model]\n",
    "model_notations = {0:'# Support Vector Machine', 1:'# Linear Regression', 2:'# Nayve Bayes', 3:'XGB classifier', 4:'# MLP classifier', 5:'# K Neighbors', 6:'# Decision Tree', 7:'# Random Forest'}\n",
    "nepali_text=[[\"हामिले कोरोना लागेको मान्छेलाई सहयोग गर्नुपर्छ\"],[\"कोरोना ले कैयों को जागिर खोसिदियो\"],[\"कोरोनाले ज्यान लियो\"]]\n",
    "for i, model in enumerate(models):\n",
    "    print(\"================================================================================================================\")\n",
    "    print(f\"{model_notations[i]} \\n---------------------------------\")\n",
    "    model.fit(feature_train,label_train)\n",
    "    prediction = model.predict(feature_test)\n",
    "    print(f'Accuracy:  {accuracy_score(prediction, label_test)}')\n",
    "    print(\"Classification report \\n---------------------------------\")\n",
    "    print(classification_report(label_test, prediction))\n",
    "    \n",
    "    print(\"Manual Prediction \\n---------------------------------\")\n",
    "    for text in nepali_text:\n",
    "        if np.squeeze(model.predict(text))==1: \n",
    "            print(\"%s: \"%(np.squeeze(text)),\"Positive\")\n",
    "        else:\n",
    "            print(\"%s: \"%(np.squeeze(text)),\"Negative\")\n",
    "    print(\"\\n================================================================================================================\")"
   ]
  },
  {
   "cell_type": "code",
   "execution_count": 22,
   "id": "9cd745e4",
   "metadata": {},
   "outputs": [],
   "source": [
    "#Variables for lstm\n",
    "data_length = len(tweets_df)\n",
    "max_input_length = 48\n",
    "size_of_batch = 64\n",
    "epos_count = 3"
   ]
  },
  {
   "cell_type": "code",
   "execution_count": 23,
   "id": "d95f5a71",
   "metadata": {},
   "outputs": [],
   "source": [
    "tokenizer = Tokenizer(data_length)\n",
    "tokenizer.fit_on_texts(feature_train)\n",
    "feature_train = tokenizer.texts_to_sequences(feature_train)\n",
    "feature_train = pad_sequences(feature_train, maxlen=max_input_length, truncating='post', padding='post')\n",
    "# feature_train[0], len(feature_train[0])\n",
    "# data_length"
   ]
  },
  {
   "cell_type": "code",
   "execution_count": 24,
   "id": "26e4e9f7",
   "metadata": {},
   "outputs": [],
   "source": [
    "feature_test = tokenizer.texts_to_sequences(feature_test)\n",
    "feature_test = pad_sequences(feature_test, maxlen=max_input_length, truncating='post', padding='post')\n",
    "# feature_test[0], len(feature_test[0])\n"
   ]
  },
  {
   "cell_type": "code",
   "execution_count": 25,
   "id": "ce12951c",
   "metadata": {},
   "outputs": [
    {
     "name": "stdout",
     "output_type": "stream",
     "text": [
      "(21431, 48) (21431,)\n",
      "(7144, 48) (7144,)\n"
     ]
    }
   ],
   "source": [
    "print(feature_train.shape, label_train.shape)\n",
    "print(feature_test.shape, label_test.shape)"
   ]
  },
  {
   "cell_type": "code",
   "execution_count": 26,
   "id": "9ec984d8",
   "metadata": {},
   "outputs": [],
   "source": [
    "le = LabelEncoder()\n",
    "label_train = le.fit_transform(label_train)\n",
    "label_test = le.transform(label_test)"
   ]
  },
  {
   "cell_type": "code",
   "execution_count": 27,
   "id": "74808327",
   "metadata": {},
   "outputs": [],
   "source": [
    "lstm_model = Sequential()\n",
    "# feature_train, feature_test = feature_train.toarray(), feature_test.toarray()\n",
    "lstm_model.add(Embedding(data_length, 100, input_length = max_input_length, trainable=True))\n",
    "lstm_model.add(LSTM(100, dropout=0.1, return_sequences=True))\n",
    "lstm_model.add(LSTM(100, dropout=0.1))\n",
    "lstm_model.add(Dense(1, activation=\"sigmoid\"))\n",
    "lstm_model.compile(loss='binary_crossentropy', optimizer='adam', metrics=['accuracy'])"
   ]
  },
  {
   "cell_type": "code",
   "execution_count": 28,
   "id": "e953c964",
   "metadata": {},
   "outputs": [
    {
     "name": "stdout",
     "output_type": "stream",
     "text": [
      "Model: \"sequential_1\"\n",
      "_________________________________________________________________\n",
      " Layer (type)                Output Shape              Param #   \n",
      "=================================================================\n",
      " embedding_1 (Embedding)     (None, 48, 100)           2857500   \n",
      "                                                                 \n",
      " lstm_2 (LSTM)               (None, 48, 100)           80400     \n",
      "                                                                 \n",
      " lstm_3 (LSTM)               (None, 100)               80400     \n",
      "                                                                 \n",
      " dense_1 (Dense)             (None, 1)                 101       \n",
      "                                                                 \n",
      "=================================================================\n",
      "Total params: 3,018,401\n",
      "Trainable params: 3,018,401\n",
      "Non-trainable params: 0\n",
      "_________________________________________________________________\n"
     ]
    }
   ],
   "source": [
    "lstm_model.summary()"
   ]
  },
  {
   "cell_type": "code",
   "execution_count": 29,
   "id": "0bb60985",
   "metadata": {},
   "outputs": [
    {
     "name": "stdout",
     "output_type": "stream",
     "text": [
      "Epoch 1/3\n",
      "335/335 [==============================] - 45s 128ms/step - loss: 0.4995 - accuracy: 0.7400 - val_loss: 0.4246 - val_accuracy: 0.8028\n",
      "Epoch 2/3\n",
      "335/335 [==============================] - 39s 118ms/step - loss: 0.3496 - accuracy: 0.8538 - val_loss: 0.4056 - val_accuracy: 0.8163\n",
      "Epoch 3/3\n",
      "335/335 [==============================] - 41s 122ms/step - loss: 0.2853 - accuracy: 0.8850 - val_loss: 0.5050 - val_accuracy: 0.8147\n"
     ]
    }
   ],
   "source": [
    "history = lstm_model.fit(feature_train, label_train, validation_data = (feature_test, label_test), epochs=epos_count, batch_size=size_of_batch)\n",
    "#jati epos dherai bhayo teti ramro hunchha like 10000 atleast"
   ]
  },
  {
   "cell_type": "code",
   "execution_count": 30,
   "id": "4bd45a68",
   "metadata": {},
   "outputs": [
    {
     "name": "stdout",
     "output_type": "stream",
     "text": [
      "Accuracy: 81.47%\n"
     ]
    }
   ],
   "source": [
    "scores = lstm_model.evaluate(feature_test, label_test, verbose=0)\n",
    "print(\"Accuracy: %.2f%%\" % (scores[1]*100))"
   ]
  },
  {
   "cell_type": "code",
   "execution_count": 35,
   "id": "6dbb0e19",
   "metadata": {},
   "outputs": [
    {
     "name": "stdout",
     "output_type": "stream",
     "text": [
      "1/1 [==============================] - 0s 19ms/step\n",
      "\n",
      "हामिले कोरोना लागेको मान्छेलाई सहयोग गर्नुपर्छ:  Positive\n",
      "\n",
      "1/1 [==============================] - 0s 16ms/step\n",
      "\n",
      "कोरोना ले कैयों को जागिर खोसिदियो:  Negative\n",
      "\n",
      "1/1 [==============================] - 0s 16ms/step\n",
      "\n",
      "कोरोनाले ज्यान लियो:  Negative\n",
      "\n"
     ]
    }
   ],
   "source": [
    "for text in nepali_text:\n",
    "    text_tokened = tokenizer.texts_to_sequences(text)\n",
    "    text_padded = pad_sequences(text_tokened, maxlen=max_input_length, truncating='post', padding='post')\n",
    "    if np.squeeze(lstm_model.predict(text_padded))>0.5: \n",
    "        print(\"\\n%s: \"%(np.squeeze(text)),\"Positive\\n\")\n",
    "    else:\n",
    "        print(\"\\n%s: \"%(np.squeeze(text)),\"Negative\\n\")"
   ]
  },
  {
   "cell_type": "code",
   "execution_count": 32,
   "id": "8d0efb9f",
   "metadata": {},
   "outputs": [
    {
     "name": "stdout",
     "output_type": "stream",
     "text": [
      "224/224 [==============================] - 4s 16ms/step\n",
      "accuracy 0.7637178051511758\n",
      "              precision    recall  f1-score   support\n",
      "\n",
      "           0       0.79      0.68      0.73      3386\n",
      "           1       0.75      0.84      0.79      3758\n",
      "\n",
      "    accuracy                           0.76      7144\n",
      "   macro avg       0.77      0.76      0.76      7144\n",
      "weighted avg       0.77      0.76      0.76      7144\n",
      "\n"
     ]
    }
   ],
   "source": [
    "lstm_prediction = lstm_model.predict(feature_test)\n",
    "lstm_prediction = (lstm_prediction>0.5)\n",
    "\n",
    "print('accuracy %s' % accuracy_score(prediction, label_test))\n",
    "print(classification_report(label_test, prediction))\n",
    "# print(prediction.value_count())"
   ]
  },
  {
   "cell_type": "code",
   "execution_count": null,
   "id": "186c77d8",
   "metadata": {},
   "outputs": [],
   "source": []
  }
 ],
 "metadata": {
  "interpreter": {
   "hash": "3b3361eea9ad770e1b9ddf2a02c07134d9907bc8d69d7867e0b684ae753730c4"
  },
  "kernelspec": {
   "display_name": "Python 3 (ipykernel)",
   "language": "python",
   "name": "python3"
  },
  "language_info": {
   "codemirror_mode": {
    "name": "ipython",
    "version": 3
   },
   "file_extension": ".py",
   "mimetype": "text/x-python",
   "name": "python",
   "nbconvert_exporter": "python",
   "pygments_lexer": "ipython3",
   "version": "3.9.12"
  }
 },
 "nbformat": 4,
 "nbformat_minor": 5
}
