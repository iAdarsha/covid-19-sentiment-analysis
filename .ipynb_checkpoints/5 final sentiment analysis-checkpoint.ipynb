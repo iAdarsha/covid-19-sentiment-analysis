{
 "cells": [
  {
   "cell_type": "code",
   "execution_count": 1,
   "id": "ea0ee00e",
   "metadata": {},
   "outputs": [],
   "source": [
    "import pandas as pd\n",
    "from inltk.inltk import tokenize"
   ]
  },
  {
   "cell_type": "code",
   "execution_count": 2,
   "id": "1ca64589",
   "metadata": {},
   "outputs": [
    {
     "data": {
      "text/html": [
       "<div>\n",
       "<style scoped>\n",
       "    .dataframe tbody tr th:only-of-type {\n",
       "        vertical-align: middle;\n",
       "    }\n",
       "\n",
       "    .dataframe tbody tr th {\n",
       "        vertical-align: top;\n",
       "    }\n",
       "\n",
       "    .dataframe thead th {\n",
       "        text-align: right;\n",
       "    }\n",
       "</style>\n",
       "<table border=\"1\" class=\"dataframe\">\n",
       "  <thead>\n",
       "    <tr style=\"text-align: right;\">\n",
       "      <th></th>\n",
       "      <th>tweets</th>\n",
       "      <th>cleaned_tweets</th>\n",
       "      <th>label</th>\n",
       "    </tr>\n",
       "  </thead>\n",
       "  <tbody>\n",
       "    <tr>\n",
       "      <th>0</th>\n",
       "      <td>जुम्राको उत्पति को कथा त कास्टिङ मात्र हो हेर्...</td>\n",
       "      <td>जु म् रा उत्पति कथा स्ट िङ हेर्दै स दुनिया  ुव...</td>\n",
       "      <td>0</td>\n",
       "    </tr>\n",
       "    <tr>\n",
       "      <th>1</th>\n",
       "      <td>स्याङ्जाको पुतलीबजार नगरपालिका गण्डकी प्रदेशको...</td>\n",
       "      <td>स्याङ्जा पुतलीबजार नगरपालिका गण्डकी प्रदेश भि ...</td>\n",
       "      <td>1</td>\n",
       "    </tr>\n",
       "    <tr>\n",
       "      <th>2</th>\n",
       "      <td>फेक मिडिया गरेर दुनियाँमा अफबाह फैलाउनेलाई भाट...</td>\n",
       "      <td>फे क मिडिया दुनियाँ अफ बाह फैल ाउने भा टा हान ...</td>\n",
       "      <td>0</td>\n",
       "    </tr>\n",
       "    <tr>\n",
       "      <th>3</th>\n",
       "      <td>चाइनाने कोरोना फैलाउछ र किटमास्क बेच्छ अमेरिका...</td>\n",
       "      <td>चाइना ने रो ना फैल ाउछ ट स्क बे च्छ अमेरिका य...</td>\n",
       "      <td>0</td>\n",
       "    </tr>\n",
       "    <tr>\n",
       "      <th>4</th>\n",
       "      <td>जोर र बिजोर ले अर्थतन्त्र लाईन मा आउने भए तेत्...</td>\n",
       "      <td>जोर बि जोर  अर्थतन्त्र लाईन आउने ते त्रो रो ना...</td>\n",
       "      <td>0</td>\n",
       "    </tr>\n",
       "  </tbody>\n",
       "</table>\n",
       "</div>"
      ],
      "text/plain": [
       "                                              tweets  \\\n",
       "0  जुम्राको उत्पति को कथा त कास्टिङ मात्र हो हेर्...   \n",
       "1  स्याङ्जाको पुतलीबजार नगरपालिका गण्डकी प्रदेशको...   \n",
       "2  फेक मिडिया गरेर दुनियाँमा अफबाह फैलाउनेलाई भाट...   \n",
       "3  चाइनाने कोरोना फैलाउछ र किटमास्क बेच्छ अमेरिका...   \n",
       "4  जोर र बिजोर ले अर्थतन्त्र लाईन मा आउने भए तेत्...   \n",
       "\n",
       "                                      cleaned_tweets  label  \n",
       "0  जु म् रा उत्पति कथा स्ट िङ हेर्दै स दुनिया  ुव...      0  \n",
       "1  स्याङ्जा पुतलीबजार नगरपालिका गण्डकी प्रदेश भि ...      1  \n",
       "2  फे क मिडिया दुनियाँ अफ बाह फैल ाउने भा टा हान ...      0  \n",
       "3   चाइना ने रो ना फैल ाउछ ट स्क बे च्छ अमेरिका य...      0  \n",
       "4  जोर बि जोर  अर्थतन्त्र लाईन आउने ते त्रो रो ना...      0  "
      ]
     },
     "execution_count": 2,
     "metadata": {},
     "output_type": "execute_result"
    }
   ],
   "source": [
    "tweets_df = pd.read_csv('3.1-labelled-tweets.csv')\n",
    "tweets_df.head()"
   ]
  },
  {
   "cell_type": "code",
   "execution_count": 3,
   "id": "72ea6739",
   "metadata": {},
   "outputs": [],
   "source": [
    "# import nltk\n",
    "# nltk.download('punkt')\n",
    "with open('stop_words.txt', encoding=\"utf-8\") as f:\n",
    "    words = [line.strip() for line in f]\n",
    "stop_words = set(words)"
   ]
  },
  {
   "cell_type": "code",
   "execution_count": 4,
   "id": "b987c914",
   "metadata": {},
   "outputs": [],
   "source": [
    "from nltk.tokenize import word_tokenize\n",
    "def removeAndTokenize(text):\n",
    "#     tokens = tokenize(text, 'ne')\n",
    "#     tokens = [word.replace('▁', '') for word in tokenize(text, 'ne')]\n",
    "    tokens = [word for word in word_tokenize(text, language=\"english\") if word not in stop_words]\n",
    "    return \" \".join(tokens)"
   ]
  },
  {
   "cell_type": "code",
   "execution_count": 5,
   "id": "0e7685e5",
   "metadata": {},
   "outputs": [
    {
     "data": {
      "text/html": [
       "<div>\n",
       "<style scoped>\n",
       "    .dataframe tbody tr th:only-of-type {\n",
       "        vertical-align: middle;\n",
       "    }\n",
       "\n",
       "    .dataframe tbody tr th {\n",
       "        vertical-align: top;\n",
       "    }\n",
       "\n",
       "    .dataframe thead th {\n",
       "        text-align: right;\n",
       "    }\n",
       "</style>\n",
       "<table border=\"1\" class=\"dataframe\">\n",
       "  <thead>\n",
       "    <tr style=\"text-align: right;\">\n",
       "      <th></th>\n",
       "      <th>tweets</th>\n",
       "      <th>cleaned_tweets</th>\n",
       "      <th>label</th>\n",
       "      <th>tokenized</th>\n",
       "    </tr>\n",
       "  </thead>\n",
       "  <tbody>\n",
       "    <tr>\n",
       "      <th>0</th>\n",
       "      <td>जुम्राको उत्पति को कथा त कास्टिङ मात्र हो हेर्...</td>\n",
       "      <td>जु म् रा उत्पति कथा स्ट िङ हेर्दै स दुनिया  ुव...</td>\n",
       "      <td>0</td>\n",
       "      <td>जुम्राको उत्पति कथा कास्टिङ हेर्दै गर्नुस दुनि...</td>\n",
       "    </tr>\n",
       "    <tr>\n",
       "      <th>1</th>\n",
       "      <td>स्याङ्जाको पुतलीबजार नगरपालिका गण्डकी प्रदेशको...</td>\n",
       "      <td>स्याङ्जा पुतलीबजार नगरपालिका गण्डकी प्रदेश भि ...</td>\n",
       "      <td>1</td>\n",
       "      <td>स्याङ्जाको पुतलीबजार नगरपालिका गण्डकी प्रदेशको...</td>\n",
       "    </tr>\n",
       "    <tr>\n",
       "      <th>2</th>\n",
       "      <td>फेक मिडिया गरेर दुनियाँमा अफबाह फैलाउनेलाई भाट...</td>\n",
       "      <td>फे क मिडिया दुनियाँ अफ बाह फैल ाउने भा टा हान ...</td>\n",
       "      <td>0</td>\n",
       "      <td>फेक मिडिया दुनियाँमा अफबाह फैलाउनेलाई भाटा हान...</td>\n",
       "    </tr>\n",
       "    <tr>\n",
       "      <th>3</th>\n",
       "      <td>चाइनाने कोरोना फैलाउछ र किटमास्क बेच्छ अमेरिका...</td>\n",
       "      <td>चाइना ने रो ना फैल ाउछ ट स्क बे च्छ अमेरिका य...</td>\n",
       "      <td>0</td>\n",
       "      <td>चाइनाने कोरोना फैलाउछ किटमास्क बेच्छ अमेरिकाले...</td>\n",
       "    </tr>\n",
       "    <tr>\n",
       "      <th>4</th>\n",
       "      <td>जोर र बिजोर ले अर्थतन्त्र लाईन मा आउने भए तेत्...</td>\n",
       "      <td>जोर बि जोर  अर्थतन्त्र लाईन आउने ते त्रो रो ना...</td>\n",
       "      <td>0</td>\n",
       "      <td>जोर बिजोर अर्थतन्त्र लाईन आउने तेत्रो कोरोना स...</td>\n",
       "    </tr>\n",
       "    <tr>\n",
       "      <th>...</th>\n",
       "      <td>...</td>\n",
       "      <td>...</td>\n",
       "      <td>...</td>\n",
       "      <td>...</td>\n",
       "    </tr>\n",
       "    <tr>\n",
       "      <th>28570</th>\n",
       "      <td>कोरोना भाईरस बिशेष गीत समूह बिश्व भरी कोरोना भ...</td>\n",
       "      <td>रो ना भाई रस गीत समूह बिश्व भरी रो ना भाई रस म...</td>\n",
       "      <td>1</td>\n",
       "      <td>कोरोना भाईरस गीत समूह बिश्व भरी कोरोना भाईरस म...</td>\n",
       "    </tr>\n",
       "    <tr>\n",
       "      <th>28571</th>\n",
       "      <td>सम्मान गर साथीहरुलाई अपमान होइन सत्ताको तातो र...</td>\n",
       "      <td>सम्मान साथी हरुलाई अपमान सत्ता तातो ाप निस्के ...</td>\n",
       "      <td>1</td>\n",
       "      <td>सम्मान साथीहरुलाई अपमान सत्ताको तातो रापमा निस...</td>\n",
       "    </tr>\n",
       "    <tr>\n",
       "      <th>28572</th>\n",
       "      <td>कोरोना कहरले दुई वर्ष हुन नसकेको माध्यमिक शिक्...</td>\n",
       "      <td>रो ना कह वर्ष नसकेको माध्यमिक शिक्षा परीक्षा व...</td>\n",
       "      <td>1</td>\n",
       "      <td>कोरोना कहरले वर्ष नसकेको माध्यमिक शिक्षा परीक्...</td>\n",
       "    </tr>\n",
       "    <tr>\n",
       "      <th>28573</th>\n",
       "      <td>काठमाडौँको मेयरको प्रदिस्पर्दमा त मिस्टर भिसिट...</td>\n",
       "      <td>काठमाडौँ मेयर प्र दि स्प र्द मिस्ट भि सि ट नेप...</td>\n",
       "      <td>0</td>\n",
       "      <td>काठमाडौँको मेयरको प्रदिस्पर्दमा मिस्टर भिसिट न...</td>\n",
       "    </tr>\n",
       "    <tr>\n",
       "      <th>28574</th>\n",
       "      <td>जनस्वास्थ्य का मैं बिद्वान हु भनेर कोभीड को बे...</td>\n",
       "      <td>जन स्वास्थ्य मै ं बि द् वान हु भनेर भी ड बेलाम...</td>\n",
       "      <td>0</td>\n",
       "      <td>जनस्वास्थ्य मैं बिद्वान हु भनेर कोभीड बेलामा ट...</td>\n",
       "    </tr>\n",
       "  </tbody>\n",
       "</table>\n",
       "<p>28575 rows × 4 columns</p>\n",
       "</div>"
      ],
      "text/plain": [
       "                                                  tweets  \\\n",
       "0      जुम्राको उत्पति को कथा त कास्टिङ मात्र हो हेर्...   \n",
       "1      स्याङ्जाको पुतलीबजार नगरपालिका गण्डकी प्रदेशको...   \n",
       "2      फेक मिडिया गरेर दुनियाँमा अफबाह फैलाउनेलाई भाट...   \n",
       "3      चाइनाने कोरोना फैलाउछ र किटमास्क बेच्छ अमेरिका...   \n",
       "4      जोर र बिजोर ले अर्थतन्त्र लाईन मा आउने भए तेत्...   \n",
       "...                                                  ...   \n",
       "28570  कोरोना भाईरस बिशेष गीत समूह बिश्व भरी कोरोना भ...   \n",
       "28571  सम्मान गर साथीहरुलाई अपमान होइन सत्ताको तातो र...   \n",
       "28572  कोरोना कहरले दुई वर्ष हुन नसकेको माध्यमिक शिक्...   \n",
       "28573  काठमाडौँको मेयरको प्रदिस्पर्दमा त मिस्टर भिसिट...   \n",
       "28574  जनस्वास्थ्य का मैं बिद्वान हु भनेर कोभीड को बे...   \n",
       "\n",
       "                                          cleaned_tweets  label  \\\n",
       "0      जु म् रा उत्पति कथा स्ट िङ हेर्दै स दुनिया  ुव...      0   \n",
       "1      स्याङ्जा पुतलीबजार नगरपालिका गण्डकी प्रदेश भि ...      1   \n",
       "2      फे क मिडिया दुनियाँ अफ बाह फैल ाउने भा टा हान ...      0   \n",
       "3       चाइना ने रो ना फैल ाउछ ट स्क बे च्छ अमेरिका य...      0   \n",
       "4      जोर बि जोर  अर्थतन्त्र लाईन आउने ते त्रो रो ना...      0   \n",
       "...                                                  ...    ...   \n",
       "28570  रो ना भाई रस गीत समूह बिश्व भरी रो ना भाई रस म...      1   \n",
       "28571  सम्मान साथी हरुलाई अपमान सत्ता तातो ाप निस्के ...      1   \n",
       "28572  रो ना कह वर्ष नसकेको माध्यमिक शिक्षा परीक्षा व...      1   \n",
       "28573  काठमाडौँ मेयर प्र दि स्प र्द मिस्ट भि सि ट नेप...      0   \n",
       "28574  जन स्वास्थ्य मै ं बि द् वान हु भनेर भी ड बेलाम...      0   \n",
       "\n",
       "                                               tokenized  \n",
       "0      जुम्राको उत्पति कथा कास्टिङ हेर्दै गर्नुस दुनि...  \n",
       "1      स्याङ्जाको पुतलीबजार नगरपालिका गण्डकी प्रदेशको...  \n",
       "2      फेक मिडिया दुनियाँमा अफबाह फैलाउनेलाई भाटा हान...  \n",
       "3      चाइनाने कोरोना फैलाउछ किटमास्क बेच्छ अमेरिकाले...  \n",
       "4      जोर बिजोर अर्थतन्त्र लाईन आउने तेत्रो कोरोना स...  \n",
       "...                                                  ...  \n",
       "28570  कोरोना भाईरस गीत समूह बिश्व भरी कोरोना भाईरस म...  \n",
       "28571  सम्मान साथीहरुलाई अपमान सत्ताको तातो रापमा निस...  \n",
       "28572  कोरोना कहरले वर्ष नसकेको माध्यमिक शिक्षा परीक्...  \n",
       "28573  काठमाडौँको मेयरको प्रदिस्पर्दमा मिस्टर भिसिट न...  \n",
       "28574  जनस्वास्थ्य मैं बिद्वान हु भनेर कोभीड बेलामा ट...  \n",
       "\n",
       "[28575 rows x 4 columns]"
      ]
     },
     "execution_count": 5,
     "metadata": {},
     "output_type": "execute_result"
    }
   ],
   "source": [
    "tweets_df['tokenized'] = tweets_df['tweets'].apply(lambda x: removeAndTokenize(x))\n",
    "tweets_df"
   ]
  },
  {
   "cell_type": "code",
   "execution_count": 57,
   "id": "d19bc08c",
   "metadata": {},
   "outputs": [],
   "source": [
    "# features = tweets_df['tokenized']\n",
    "features = tweets_df['cleaned_tweets']\n",
    "labels = tweets_df['label'].astype(\"int\")"
   ]
  },
  {
   "cell_type": "code",
   "execution_count": 58,
   "id": "89ea4989",
   "metadata": {},
   "outputs": [],
   "source": [
    "from sklearn.model_selection import train_test_split\n",
    "feature_train, feature_test, label_train, label_test = train_test_split(features, labels, test_size=0.25, random_state=42)"
   ]
  },
  {
   "cell_type": "code",
   "execution_count": 59,
   "id": "64d4c8c0",
   "metadata": {},
   "outputs": [
    {
     "name": "stdout",
     "output_type": "stream",
     "text": [
      "The no of Training data:  21431\n",
      "The no of Testing data: 7144\n"
     ]
    }
   ],
   "source": [
    "print(\"The no of Training data: \", feature_train.shape[0])\n",
    "print(\"The no of Testing data:\",feature_test.shape[0])"
   ]
  },
  {
   "cell_type": "code",
   "execution_count": 9,
   "id": "85f76f9b",
   "metadata": {},
   "outputs": [],
   "source": [
    "from sklearn.feature_extraction.text import TfidfVectorizer\n",
    "from sklearn.pipeline import Pipeline\n",
    "from sklearn.svm import SVC\n",
    "svm_model = Pipeline([('vect', TfidfVectorizer()), ('model', SVC())])"
   ]
  },
  {
   "cell_type": "code",
   "execution_count": 10,
   "id": "2a4035ae",
   "metadata": {},
   "outputs": [],
   "source": [
    "svm_model.fit(feature_train,label_train)\n",
    "svm_prediction = svm_model.predict(feature_test)"
   ]
  },
  {
   "cell_type": "code",
   "execution_count": 11,
   "id": "630a502f",
   "metadata": {},
   "outputs": [
    {
     "name": "stdout",
     "output_type": "stream",
     "text": [
      "accuracy 0.7889137737961927\n",
      "              precision    recall  f1-score   support\n",
      "\n",
      "           0       0.80      0.74      0.77      3386\n",
      "           1       0.78      0.83      0.81      3758\n",
      "\n",
      "    accuracy                           0.79      7144\n",
      "   macro avg       0.79      0.79      0.79      7144\n",
      "weighted avg       0.79      0.79      0.79      7144\n",
      "\n"
     ]
    }
   ],
   "source": [
    "from sklearn.metrics import accuracy_score\n",
    "from sklearn.metrics import classification_report\n",
    "print('accuracy %s' % accuracy_score(svm_prediction, label_test))\n",
    "print(classification_report(label_test, svm_prediction))"
   ]
  },
  {
   "cell_type": "code",
   "execution_count": 12,
   "id": "de4e38f2",
   "metadata": {},
   "outputs": [
    {
     "name": "stdout",
     "output_type": "stream",
     "text": [
      "हामिले कोरोना लागेको मान्छेलाई सहयोग गर्नुपर्छ Positive\n",
      "कोरोना ले कैयों को जागिर खोसिदियो Negative\n",
      "कोरोनाले ज्यान लियो Negative\n"
     ]
    }
   ],
   "source": [
    "import numpy as np\n",
    "nepali_text=[[\"हामिले कोरोना लागेको मान्छेलाई सहयोग गर्नुपर्छ\"],[\"कोरोना ले कैयों को जागिर खोसिदियो\"],[\"कोरोनाले ज्यान लियो\"]]\n",
    "for text in nepali_text:\n",
    "    if np.squeeze(svm_model.predict(text))==1: \n",
    "        print(\"%s\"%(np.squeeze(text)),\"Positive\")\n",
    "    else:\n",
    "        print(\"%s\"%(np.squeeze(text)),\"Negative\")"
   ]
  },
  {
   "cell_type": "code",
   "execution_count": 13,
   "id": "a4c75134",
   "metadata": {},
   "outputs": [
    {
     "name": "stdout",
     "output_type": "stream",
     "text": [
      "accuracy 0.721444568868981\n",
      "              precision    recall  f1-score   support\n",
      "\n",
      "           0       0.69      0.74      0.71      3386\n",
      "           1       0.75      0.71      0.73      3758\n",
      "\n",
      "    accuracy                           0.72      7144\n",
      "   macro avg       0.72      0.72      0.72      7144\n",
      "weighted avg       0.72      0.72      0.72      7144\n",
      "\n"
     ]
    }
   ],
   "source": [
    "from sklearn.naive_bayes import BernoulliNB\n",
    "nb_model = Pipeline([('vect', TfidfVectorizer()), ('model', BernoulliNB())])\n",
    "nb_model.fit(feature_train,label_train)\n",
    "nb_prediction = nb_model.predict(feature_test)\n",
    "print('accuracy %s' % accuracy_score(nb_prediction, label_test))\n",
    "print(classification_report(label_test, nb_prediction))"
   ]
  },
  {
   "cell_type": "code",
   "execution_count": 14,
   "id": "407197ec",
   "metadata": {},
   "outputs": [
    {
     "name": "stdout",
     "output_type": "stream",
     "text": [
      "accuracy 0.7609182530795073\n",
      "              precision    recall  f1-score   support\n",
      "\n",
      "           0       0.76      0.72      0.74      3386\n",
      "           1       0.76      0.79      0.78      3758\n",
      "\n",
      "    accuracy                           0.76      7144\n",
      "   macro avg       0.76      0.76      0.76      7144\n",
      "weighted avg       0.76      0.76      0.76      7144\n",
      "\n"
     ]
    }
   ],
   "source": [
    "from sklearn.linear_model import LogisticRegression\n",
    "lr_model = Pipeline([('vect', TfidfVectorizer()), ('model', LogisticRegression())])\n",
    "lr_model.fit(feature_train,label_train)\n",
    "lr_prediction = lr_model.predict(feature_test)\n",
    "print('accuracy %s' % accuracy_score(lr_prediction, label_test))\n",
    "print(classification_report(label_test, lr_prediction))"
   ]
  },
  {
   "cell_type": "code",
   "execution_count": 15,
   "id": "9c4c7458",
   "metadata": {},
   "outputs": [
    {
     "name": "stdout",
     "output_type": "stream",
     "text": [
      "accuracy 0.7494400895856663\n",
      "              precision    recall  f1-score   support\n",
      "\n",
      "           0       0.76      0.68      0.72      3386\n",
      "           1       0.74      0.81      0.77      3758\n",
      "\n",
      "    accuracy                           0.75      7144\n",
      "   macro avg       0.75      0.75      0.75      7144\n",
      "weighted avg       0.75      0.75      0.75      7144\n",
      "\n"
     ]
    }
   ],
   "source": [
    "from xgboost import XGBClassifier\n",
    "xgb_model = Pipeline([('vect', TfidfVectorizer()), ('model', XGBClassifier(objective=\"binary:logistic\", random_state=42))])\n",
    "xgb_model.fit(feature_train,label_train)\n",
    "xgb_prediction = xgb_model.predict(feature_test)\n",
    "print('accuracy %s' % accuracy_score(xgb_prediction, label_test))\n",
    "print(classification_report(label_test, xgb_prediction))"
   ]
  },
  {
   "cell_type": "code",
   "execution_count": 16,
   "id": "f5f50b02",
   "metadata": {},
   "outputs": [
    {
     "name": "stdout",
     "output_type": "stream",
     "text": [
      "accuracy 0.763437849944009\n",
      "              precision    recall  f1-score   support\n",
      "\n",
      "           0       0.75      0.76      0.75      3386\n",
      "           1       0.78      0.77      0.77      3758\n",
      "\n",
      "    accuracy                           0.76      7144\n",
      "   macro avg       0.76      0.76      0.76      7144\n",
      "weighted avg       0.76      0.76      0.76      7144\n",
      "\n"
     ]
    }
   ],
   "source": [
    "from sklearn.neural_network import MLPClassifier\n",
    "mlp_model = Pipeline([('vect', TfidfVectorizer()), ('model', MLPClassifier())])\n",
    "mlp_model.fit(feature_train,label_train)\n",
    "mlp_prediction = mlp_model.predict(feature_test)\n",
    "print('accuracy %s' % accuracy_score(mlp_prediction, label_test))\n",
    "print(classification_report(label_test, mlp_prediction))"
   ]
  },
  {
   "cell_type": "code",
   "execution_count": 60,
   "id": "9cd745e4",
   "metadata": {},
   "outputs": [],
   "source": [
    "#lstm\n",
    "from keras.models import Sequential\n",
    "from keras.layers import Dense\n",
    "from keras.layers import LSTM\n",
    "from keras.layers import Dropout\n",
    "from tensorflow.keras.layers import Embedding\n",
    "from keras.layers.convolutional import Conv1D\n",
    "from keras.layers.convolutional import MaxPooling1D"
   ]
  },
  {
   "cell_type": "code",
   "execution_count": 61,
   "id": "d95f5a71",
   "metadata": {},
   "outputs": [
    {
     "data": {
      "text/plain": [
       "(array([ 225, 1035,  789,   71,   97, 1422, 1403, 2181,   33,  135,  138,  561,   52, 1994, 1288,   25,  309,  759,\n",
       "        7742, 1204,  338,    2,    1,    4,    3,    0,    0,    0,    0,    0,    0,    0]),\n",
       " 32)"
      ]
     },
     "execution_count": 61,
     "metadata": {},
     "output_type": "execute_result"
    }
   ],
   "source": [
    "from keras.utils import pad_sequences\n",
    "from keras.preprocessing.text import Tokenizer\n",
    "tokenizer = Tokenizer(len(labels))\n",
    "tokenizer.fit_on_texts(feature_train)\n",
    "feature_train = tokenizer.texts_to_sequences(feature_train)\n",
    "feature_train = pad_sequences(feature_train, maxlen=32, truncating='post', padding='post')\n",
    "feature_train[0], len(feature_train[0])\n",
    "# len(labels)"
   ]
  },
  {
   "cell_type": "code",
   "execution_count": 62,
   "id": "26e4e9f7",
   "metadata": {},
   "outputs": [
    {
     "data": {
      "text/plain": [
       "(array([3200,    4,    3,    5,    2,    1,   18,    8,   38,    0,    0,    0,    0,    0,    0,    0,    0,    0,\n",
       "           0,    0,    0,    0,    0,    0,    0,    0,    0,    0,    0,    0,    0,    0]),\n",
       " 32)"
      ]
     },
     "execution_count": 62,
     "metadata": {},
     "output_type": "execute_result"
    }
   ],
   "source": [
    "feature_test = tokenizer.texts_to_sequences(feature_test)\n",
    "feature_test = pad_sequences(feature_test, maxlen=32, truncating='post', padding='post')\n",
    "feature_test[0], len(feature_test[0])\n"
   ]
  },
  {
   "cell_type": "code",
   "execution_count": 63,
   "id": "ce12951c",
   "metadata": {},
   "outputs": [
    {
     "name": "stdout",
     "output_type": "stream",
     "text": [
      "(21431, 32) (21431,)\n",
      "(7144, 32) (7144,)\n"
     ]
    }
   ],
   "source": [
    "print(feature_train.shape, label_train.shape)\n",
    "print(feature_test.shape, label_test.shape)"
   ]
  },
  {
   "cell_type": "code",
   "execution_count": 64,
   "id": "9ec984d8",
   "metadata": {},
   "outputs": [],
   "source": [
    "from sklearn.preprocessing import LabelEncoder\n",
    "le = LabelEncoder()\n",
    "label_train = le.fit_transform(label_train)\n",
    "label_test = le.transform(label_test)"
   ]
  },
  {
   "cell_type": "code",
   "execution_count": 65,
   "id": "74808327",
   "metadata": {},
   "outputs": [],
   "source": [
    "model = Sequential()\n",
    "# feature_train, feature_test = feature_train.toarray(), feature_test.toarray()\n",
    "model.add(Embedding(len(labels), 100, input_length = 32, trainable=True))\n",
    "model.add(LSTM(100, dropout=0.1, return_sequences=True))\n",
    "model.add(LSTM(100, dropout=0.1))\n",
    "model.add(Dense(1, activation=\"sigmoid\"))\n",
    "model.compile(loss='binary_crossentropy', optimizer='adam', metrics=['accuracy'])"
   ]
  },
  {
   "cell_type": "code",
   "execution_count": 66,
   "id": "e953c964",
   "metadata": {},
   "outputs": [
    {
     "name": "stdout",
     "output_type": "stream",
     "text": [
      "Model: \"sequential_2\"\n",
      "_________________________________________________________________\n",
      " Layer (type)                Output Shape              Param #   \n",
      "=================================================================\n",
      " embedding_2 (Embedding)     (None, 32, 100)           2857500   \n",
      "                                                                 \n",
      " lstm_4 (LSTM)               (None, 32, 100)           80400     \n",
      "                                                                 \n",
      " lstm_5 (LSTM)               (None, 100)               80400     \n",
      "                                                                 \n",
      " dense_2 (Dense)             (None, 1)                 101       \n",
      "                                                                 \n",
      "=================================================================\n",
      "Total params: 3,018,401\n",
      "Trainable params: 3,018,401\n",
      "Non-trainable params: 0\n",
      "_________________________________________________________________\n"
     ]
    }
   ],
   "source": [
    "model.summary()"
   ]
  },
  {
   "cell_type": "code",
   "execution_count": 67,
   "id": "acd4d0f7",
   "metadata": {},
   "outputs": [
    {
     "data": {
      "text/plain": [
       "32"
      ]
     },
     "execution_count": 67,
     "metadata": {},
     "output_type": "execute_result"
    }
   ],
   "source": [
    "len(feature_train[0])\n"
   ]
  },
  {
   "cell_type": "code",
   "execution_count": 68,
   "id": "0bb60985",
   "metadata": {},
   "outputs": [
    {
     "name": "stdout",
     "output_type": "stream",
     "text": [
      "Epoch 1/3\n",
      "335/335 [==============================] - 28s 75ms/step - loss: 0.4726 - accuracy: 0.7633 - val_loss: 0.4170 - val_accuracy: 0.8151\n",
      "Epoch 2/3\n",
      "335/335 [==============================] - 27s 80ms/step - loss: 0.3389 - accuracy: 0.8554 - val_loss: 0.4092 - val_accuracy: 0.8148\n",
      "Epoch 3/3\n",
      "335/335 [==============================] - 27s 79ms/step - loss: 0.2740 - accuracy: 0.8880 - val_loss: 0.4515 - val_accuracy: 0.8061\n"
     ]
    }
   ],
   "source": [
    "history = model.fit(feature_train, label_train, validation_data = (feature_test, label_test), epochs=3, batch_size=64)\n",
    "#jati epos dherai bhayo teti ramro hunchha like 10000 atleast"
   ]
  },
  {
   "cell_type": "code",
   "execution_count": 70,
   "id": "6dbb0e19",
   "metadata": {},
   "outputs": [
    {
     "name": "stdout",
     "output_type": "stream",
     "text": [
      "1/1 [==============================] - 1s 532ms/step\n",
      "हामिले कोरोना लागेको मान्छेलाई सहयोग गर्नुपर्छ Positive\n",
      "1/1 [==============================] - 0s 16ms/step\n",
      "कोरोना ले कैयों को जागिर खोसिदियो Positive\n",
      "1/1 [==============================] - 0s 16ms/step\n",
      "कोरोनाले ज्यान लियो Negative\n"
     ]
    }
   ],
   "source": [
    "nepali_text=[[\"हामिले कोरोना लागेको मान्छेलाई सहयोग गर्नुपर्छ\"],[\"कोरोना ले कैयों को जागिर खोसिदियो\"],[\"कोरोनाले ज्यान लियो\"]]\n",
    "for text in nepali_text:\n",
    "    text_tokened = tokenizer.texts_to_sequences(text)\n",
    "    text_padded = pad_sequences(text_tokened, maxlen=32, truncating='post', padding='post')\n",
    "    if np.squeeze(model.predict(text_padded))>0.5: \n",
    "        print(\"%s\"%(np.squeeze(text)),\"Positive\")\n",
    "    else:\n",
    "        print(\"%s\"%(np.squeeze(text)),\"Negative\")"
   ]
  },
  {
   "cell_type": "code",
   "execution_count": 71,
   "id": "8d0efb9f",
   "metadata": {},
   "outputs": [
    {
     "name": "stdout",
     "output_type": "stream",
     "text": [
      "224/224 [==============================] - 3s 11ms/step\n",
      "accuracy 0.806131019036954\n",
      "              precision    recall  f1-score   support\n",
      "\n",
      "           0       0.83      0.75      0.79      3386\n",
      "           1       0.79      0.86      0.82      3758\n",
      "\n",
      "    accuracy                           0.81      7144\n",
      "   macro avg       0.81      0.80      0.80      7144\n",
      "weighted avg       0.81      0.81      0.81      7144\n",
      "\n"
     ]
    }
   ],
   "source": [
    "prediction = model.predict(feature_test)\n",
    "prediction = (prediction>0.5)\n",
    "\n",
    "print('accuracy %s' % accuracy_score(prediction, label_test))\n",
    "print(classification_report(label_test, prediction))\n",
    "# print(prediction.value_count())"
   ]
  },
  {
   "cell_type": "code",
   "execution_count": null,
   "id": "186c77d8",
   "metadata": {},
   "outputs": [],
   "source": []
  }
 ],
 "metadata": {
  "interpreter": {
   "hash": "3b3361eea9ad770e1b9ddf2a02c07134d9907bc8d69d7867e0b684ae753730c4"
  },
  "kernelspec": {
   "display_name": "Python 3 (ipykernel)",
   "language": "python",
   "name": "python3"
  },
  "language_info": {
   "codemirror_mode": {
    "name": "ipython",
    "version": 3
   },
   "file_extension": ".py",
   "mimetype": "text/x-python",
   "name": "python",
   "nbconvert_exporter": "python",
   "pygments_lexer": "ipython3",
   "version": "3.9.12"
  }
 },
 "nbformat": 4,
 "nbformat_minor": 5
}
