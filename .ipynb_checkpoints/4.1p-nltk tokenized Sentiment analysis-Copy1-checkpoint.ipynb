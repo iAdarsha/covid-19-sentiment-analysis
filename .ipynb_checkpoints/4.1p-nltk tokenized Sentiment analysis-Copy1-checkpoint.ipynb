{
 "cells": [
  {
   "cell_type": "code",
   "execution_count": 1,
   "id": "ea0ee00e",
   "metadata": {},
   "outputs": [],
   "source": [
    "import pandas as pd\n",
    "from inltk.inltk import tokenize"
   ]
  },
  {
   "cell_type": "code",
   "execution_count": 2,
   "id": "1ca64589",
   "metadata": {},
   "outputs": [
    {
     "data": {
      "text/html": [
       "<div>\n",
       "<style scoped>\n",
       "    .dataframe tbody tr th:only-of-type {\n",
       "        vertical-align: middle;\n",
       "    }\n",
       "\n",
       "    .dataframe tbody tr th {\n",
       "        vertical-align: top;\n",
       "    }\n",
       "\n",
       "    .dataframe thead th {\n",
       "        text-align: right;\n",
       "    }\n",
       "</style>\n",
       "<table border=\"1\" class=\"dataframe\">\n",
       "  <thead>\n",
       "    <tr style=\"text-align: right;\">\n",
       "      <th></th>\n",
       "      <th>tweets</th>\n",
       "      <th>cleaned_tweets</th>\n",
       "      <th>label</th>\n",
       "    </tr>\n",
       "  </thead>\n",
       "  <tbody>\n",
       "    <tr>\n",
       "      <th>0</th>\n",
       "      <td>जुम्राको उत्पति को कथा त कास्टिङ मात्र हो हेर्...</td>\n",
       "      <td>जु म् रा उत्पति कथा स्ट िङ हेर्दै स दुनिया  ुव...</td>\n",
       "      <td>0</td>\n",
       "    </tr>\n",
       "    <tr>\n",
       "      <th>1</th>\n",
       "      <td>स्याङ्जाको पुतलीबजार नगरपालिका गण्डकी प्रदेशको...</td>\n",
       "      <td>स्याङ्जा पुतलीबजार नगरपालिका गण्डकी प्रदेश भि ...</td>\n",
       "      <td>1</td>\n",
       "    </tr>\n",
       "    <tr>\n",
       "      <th>2</th>\n",
       "      <td>फेक मिडिया गरेर दुनियाँमा अफबाह फैलाउनेलाई भाट...</td>\n",
       "      <td>फे क मिडिया दुनियाँ अफ बाह फैल ाउने भा टा हान ...</td>\n",
       "      <td>0</td>\n",
       "    </tr>\n",
       "    <tr>\n",
       "      <th>3</th>\n",
       "      <td>चाइनाने कोरोना फैलाउछ र किटमास्क बेच्छ अमेरिका...</td>\n",
       "      <td>चाइना ने रो ना फैल ाउछ ट स्क बे च्छ अमेरिका य...</td>\n",
       "      <td>0</td>\n",
       "    </tr>\n",
       "    <tr>\n",
       "      <th>4</th>\n",
       "      <td>जोर र बिजोर ले अर्थतन्त्र लाईन मा आउने भए तेत्...</td>\n",
       "      <td>जोर बि जोर  अर्थतन्त्र लाईन आउने ते त्रो रो ना...</td>\n",
       "      <td>0</td>\n",
       "    </tr>\n",
       "  </tbody>\n",
       "</table>\n",
       "</div>"
      ],
      "text/plain": [
       "                                              tweets  \\\n",
       "0  जुम्राको उत्पति को कथा त कास्टिङ मात्र हो हेर्...   \n",
       "1  स्याङ्जाको पुतलीबजार नगरपालिका गण्डकी प्रदेशको...   \n",
       "2  फेक मिडिया गरेर दुनियाँमा अफबाह फैलाउनेलाई भाट...   \n",
       "3  चाइनाने कोरोना फैलाउछ र किटमास्क बेच्छ अमेरिका...   \n",
       "4  जोर र बिजोर ले अर्थतन्त्र लाईन मा आउने भए तेत्...   \n",
       "\n",
       "                                      cleaned_tweets  label  \n",
       "0  जु म् रा उत्पति कथा स्ट िङ हेर्दै स दुनिया  ुव...      0  \n",
       "1  स्याङ्जा पुतलीबजार नगरपालिका गण्डकी प्रदेश भि ...      1  \n",
       "2  फे क मिडिया दुनियाँ अफ बाह फैल ाउने भा टा हान ...      0  \n",
       "3   चाइना ने रो ना फैल ाउछ ट स्क बे च्छ अमेरिका य...      0  \n",
       "4  जोर बि जोर  अर्थतन्त्र लाईन आउने ते त्रो रो ना...      0  "
      ]
     },
     "execution_count": 2,
     "metadata": {},
     "output_type": "execute_result"
    }
   ],
   "source": [
    "tweets_df = pd.read_csv('3.1-labelled-tweets.csv')\n",
    "tweets_df.head()"
   ]
  },
  {
   "cell_type": "code",
   "execution_count": 3,
   "id": "ae7bc0ad",
   "metadata": {},
   "outputs": [
    {
     "ename": "ModuleNotFoundError",
     "evalue": "No module named 'Nepali_nlp.local_dataset'",
     "output_type": "error",
     "traceback": [
      "\u001b[1;31m---------------------------------------------------------------------------\u001b[0m",
      "\u001b[1;31mModuleNotFoundError\u001b[0m                       Traceback (most recent call last)",
      "Input \u001b[1;32mIn [3]\u001b[0m, in \u001b[0;36m<cell line: 1>\u001b[1;34m()\u001b[0m\n\u001b[1;32m----> 1\u001b[0m \u001b[38;5;28;01mfrom\u001b[39;00m \u001b[38;5;21;01mNepali_nlp\u001b[39;00m \u001b[38;5;28;01mimport\u001b[39;00m Stem\n",
      "File \u001b[1;32m~\\AppData\\Local\\Programs\\Python\\Python39\\lib\\site-packages\\Nepali_nlp\\__init__.py:5\u001b[0m, in \u001b[0;36m<module>\u001b[1;34m\u001b[0m\n\u001b[0;32m      3\u001b[0m \u001b[38;5;28;01mfrom\u001b[39;00m \u001b[38;5;21;01m.\u001b[39;00m\u001b[38;5;21;01mspellcheck\u001b[39;00m \u001b[38;5;28;01mimport\u001b[39;00m Corrector\n\u001b[0;32m      4\u001b[0m \u001b[38;5;28;01mfrom\u001b[39;00m \u001b[38;5;21;01m.\u001b[39;00m\u001b[38;5;21;01msummerization\u001b[39;00m \u001b[38;5;28;01mimport\u001b[39;00m Summerize\n\u001b[1;32m----> 5\u001b[0m \u001b[38;5;28;01mfrom\u001b[39;00m \u001b[38;5;21;01m.\u001b[39;00m\u001b[38;5;21;01municode_nepali\u001b[39;00m \u001b[38;5;28;01mimport\u001b[39;00m Unicode\n\u001b[0;32m      6\u001b[0m \u001b[38;5;28;01mfrom\u001b[39;00m \u001b[38;5;21;01m.\u001b[39;00m\u001b[38;5;21;01mpreeti_unicode\u001b[39;00m \u001b[38;5;28;01mimport\u001b[39;00m preeti\n\u001b[0;32m      7\u001b[0m \u001b[38;5;28;01mfrom\u001b[39;00m \u001b[38;5;21;01m.\u001b[39;00m\u001b[38;5;21;01mocr\u001b[39;00m \u001b[38;5;28;01mimport\u001b[39;00m OCR\n",
      "File \u001b[1;32m~\\AppData\\Local\\Programs\\Python\\Python39\\lib\\site-packages\\Nepali_nlp\\unicode_nepali.py:8\u001b[0m, in \u001b[0;36m<module>\u001b[1;34m\u001b[0m\n\u001b[0;32m      5\u001b[0m \u001b[38;5;28;01mfrom\u001b[39;00m \u001b[38;5;21;01mcollections\u001b[39;00m \u001b[38;5;28;01mimport\u001b[39;00m OrderedDict\n\u001b[0;32m      6\u001b[0m \u001b[38;5;28;01mfrom\u001b[39;00m \u001b[38;5;21;01mpprint\u001b[39;00m \u001b[38;5;28;01mimport\u001b[39;00m pprint\n\u001b[1;32m----> 8\u001b[0m \u001b[38;5;28;01mfrom\u001b[39;00m \u001b[38;5;21;01m.\u001b[39;00m\u001b[38;5;21;01mlocal_dataset\u001b[39;00m\u001b[38;5;21;01m.\u001b[39;00m\u001b[38;5;21;01municode\u001b[39;00m \u001b[38;5;28;01mimport\u001b[39;00m nepali, halanta, sabda_banot, exception\n\u001b[0;32m     10\u001b[0m \u001b[38;5;28;01mclass\u001b[39;00m \u001b[38;5;21;01mUnicode\u001b[39;00m:\n\u001b[0;32m     11\u001b[0m    \u001b[38;5;124;03m\"\"\"This class converts Roman written Nepali word to actual Nepali word.\"\"\"\u001b[39;00m\n",
      "\u001b[1;31mModuleNotFoundError\u001b[0m: No module named 'Nepali_nlp.local_dataset'"
     ]
    }
   ],
   "source": [
    "# from Nepali_nlp import Stem\n",
    "def removeAndTokenize(text):\n",
    "#     tokens = tokenize(text, 'ne')\n",
    "    tokens = [word.replace('▁', '') for word in tokenize(text, 'ne')]\n",
    "    tokens = [word for word in tokens if word not in stop_words]\n",
    "    return \" \".join(tokens)"
   ]
  },
  {
   "cell_type": "code",
   "execution_count": null,
   "id": "376974d8",
   "metadata": {},
   "outputs": [],
   "source": []
  },
  {
   "cell_type": "code",
   "execution_count": 3,
   "id": "d19bc08c",
   "metadata": {},
   "outputs": [],
   "source": [
    "features = tweets_df['cleaned_tweets']\n",
    "labels = tweets_df['label'].astype(\"int\")"
   ]
  },
  {
   "cell_type": "code",
   "execution_count": 4,
   "id": "89ea4989",
   "metadata": {},
   "outputs": [],
   "source": [
    "from sklearn.model_selection import train_test_split\n",
    "feature_train, feature_test, label_train, label_test = train_test_split(features, labels, test_size=0.25, random_state=42)"
   ]
  },
  {
   "cell_type": "code",
   "execution_count": 5,
   "id": "64d4c8c0",
   "metadata": {},
   "outputs": [
    {
     "name": "stdout",
     "output_type": "stream",
     "text": [
      "The no of Training data:  21431\n",
      "The no of Testing data: 7144\n"
     ]
    }
   ],
   "source": [
    "print(\"The no of Training data: \", feature_train.shape[0])\n",
    "print(\"The no of Testing data:\",feature_test.shape[0])"
   ]
  },
  {
   "cell_type": "code",
   "execution_count": 6,
   "id": "85f76f9b",
   "metadata": {},
   "outputs": [],
   "source": [
    "from sklearn.feature_extraction.text import TfidfVectorizer\n",
    "from sklearn.pipeline import Pipeline\n",
    "from sklearn.svm import SVC\n",
    "svm_model = Pipeline([('vect', TfidfVectorizer()), ('model', SVC())])"
   ]
  },
  {
   "cell_type": "code",
   "execution_count": 7,
   "id": "2a4035ae",
   "metadata": {},
   "outputs": [],
   "source": [
    "svm_model.fit(feature_train,label_train)\n",
    "svm_prediction = svm_model.predict(feature_test)"
   ]
  },
  {
   "cell_type": "code",
   "execution_count": 8,
   "id": "630a502f",
   "metadata": {},
   "outputs": [
    {
     "name": "stdout",
     "output_type": "stream",
     "text": [
      "accuracy 0.7842945128779395\n",
      "              precision    recall  f1-score   support\n",
      "\n",
      "           0       0.79      0.74      0.76      3386\n",
      "           1       0.78      0.83      0.80      3758\n",
      "\n",
      "    accuracy                           0.78      7144\n",
      "   macro avg       0.79      0.78      0.78      7144\n",
      "weighted avg       0.78      0.78      0.78      7144\n",
      "\n"
     ]
    }
   ],
   "source": [
    "from sklearn.metrics import accuracy_score\n",
    "from sklearn.metrics import classification_report\n",
    "print('accuracy %s' % accuracy_score(svm_prediction, label_test))\n",
    "print(classification_report(label_test, svm_prediction))"
   ]
  },
  {
   "cell_type": "code",
   "execution_count": 9,
   "id": "de4e38f2",
   "metadata": {},
   "outputs": [
    {
     "name": "stdout",
     "output_type": "stream",
     "text": [
      "हामिले कोरोना लागेको मान्छेलाई सहयोग गर्नुपर्छ Positive\n",
      "कोरोना ले कैयों को जागिर खोसिदियो Negative\n",
      "कोरोनाले ज्यान लियो Negative\n"
     ]
    }
   ],
   "source": [
    "import numpy as np\n",
    "nepali_text=[[\"हामिले कोरोना लागेको मान्छेलाई सहयोग गर्नुपर्छ\"],[\"कोरोना ले कैयों को जागिर खोसिदियो\"],[\"कोरोनाले ज्यान लियो\"]]\n",
    "for text in nepali_text:\n",
    "    if np.squeeze(svm_model.predict(text))==1: \n",
    "        print(\"%s\"%(np.squeeze(text)),\"Positive\")\n",
    "    else:\n",
    "        print(\"%s\"%(np.squeeze(text)),\"Negative\")"
   ]
  },
  {
   "cell_type": "code",
   "execution_count": 10,
   "id": "a4c75134",
   "metadata": {},
   "outputs": [
    {
     "name": "stdout",
     "output_type": "stream",
     "text": [
      "accuracy 0.7113661814109743\n",
      "              precision    recall  f1-score   support\n",
      "\n",
      "           0       0.68      0.73      0.70      3386\n",
      "           1       0.74      0.70      0.72      3758\n",
      "\n",
      "    accuracy                           0.71      7144\n",
      "   macro avg       0.71      0.71      0.71      7144\n",
      "weighted avg       0.71      0.71      0.71      7144\n",
      "\n"
     ]
    }
   ],
   "source": [
    "from sklearn.naive_bayes import BernoulliNB\n",
    "nb_model = Pipeline([('vect', TfidfVectorizer()), ('model', BernoulliNB())])\n",
    "nb_model.fit(feature_train,label_train)\n",
    "nb_prediction = nb_model.predict(feature_test)\n",
    "print('accuracy %s' % accuracy_score(nb_prediction, label_test))\n",
    "print(classification_report(label_test, nb_prediction))"
   ]
  },
  {
   "cell_type": "code",
   "execution_count": 11,
   "id": "407197ec",
   "metadata": {},
   "outputs": [
    {
     "name": "stdout",
     "output_type": "stream",
     "text": [
      "accuracy 0.7516797312430011\n",
      "              precision    recall  f1-score   support\n",
      "\n",
      "           0       0.75      0.71      0.73      3386\n",
      "           1       0.75      0.79      0.77      3758\n",
      "\n",
      "    accuracy                           0.75      7144\n",
      "   macro avg       0.75      0.75      0.75      7144\n",
      "weighted avg       0.75      0.75      0.75      7144\n",
      "\n"
     ]
    }
   ],
   "source": [
    "from sklearn.linear_model import LogisticRegression\n",
    "lr_model = Pipeline([('vect', TfidfVectorizer()), ('model', LogisticRegression())])\n",
    "lr_model.fit(feature_train,label_train)\n",
    "lr_prediction = lr_model.predict(feature_test)\n",
    "print('accuracy %s' % accuracy_score(lr_prediction, label_test))\n",
    "print(classification_report(label_test, lr_prediction))"
   ]
  },
  {
   "cell_type": "code",
   "execution_count": 12,
   "id": "9c4c7458",
   "metadata": {},
   "outputs": [
    {
     "name": "stdout",
     "output_type": "stream",
     "text": [
      "accuracy 0.7472004479283315\n",
      "              precision    recall  f1-score   support\n",
      "\n",
      "           0       0.77      0.67      0.72      3386\n",
      "           1       0.73      0.82      0.77      3758\n",
      "\n",
      "    accuracy                           0.75      7144\n",
      "   macro avg       0.75      0.74      0.74      7144\n",
      "weighted avg       0.75      0.75      0.75      7144\n",
      "\n"
     ]
    }
   ],
   "source": [
    "from xgboost import XGBClassifier\n",
    "xgb_model = Pipeline([('vect', TfidfVectorizer()), ('model', XGBClassifier(objective=\"binary:logistic\", random_state=42))])\n",
    "xgb_model.fit(feature_train,label_train)\n",
    "xgb_prediction = xgb_model.predict(feature_test)\n",
    "print('accuracy %s' % accuracy_score(xgb_prediction, label_test))\n",
    "print(classification_report(label_test, xgb_prediction))"
   ]
  },
  {
   "cell_type": "code",
   "execution_count": 13,
   "id": "f5f50b02",
   "metadata": {},
   "outputs": [
    {
     "name": "stdout",
     "output_type": "stream",
     "text": [
      "accuracy 0.7667973124300111\n",
      "              precision    recall  f1-score   support\n",
      "\n",
      "           0       0.76      0.75      0.75      3386\n",
      "           1       0.78      0.78      0.78      3758\n",
      "\n",
      "    accuracy                           0.77      7144\n",
      "   macro avg       0.77      0.77      0.77      7144\n",
      "weighted avg       0.77      0.77      0.77      7144\n",
      "\n"
     ]
    }
   ],
   "source": [
    "from sklearn.neural_network import MLPClassifier\n",
    "mlp_model = Pipeline([('vect', TfidfVectorizer()), ('model', MLPClassifier())])\n",
    "mlp_model.fit(feature_train,label_train)\n",
    "mlp_prediction = mlp_model.predict(feature_test)\n",
    "print('accuracy %s' % accuracy_score(mlp_prediction, label_test))\n",
    "print(classification_report(label_test, mlp_prediction))"
   ]
  },
  {
   "cell_type": "code",
   "execution_count": 14,
   "id": "9cd745e4",
   "metadata": {},
   "outputs": [],
   "source": [
    "#lstm\n",
    "from keras.models import Sequential\n",
    "from keras.layers import Dense\n",
    "from keras.layers import LSTM\n",
    "from keras.layers import Dropout\n",
    "from tensorflow.keras.layers import Embedding\n",
    "from keras.layers.convolutional import Conv1D\n",
    "from keras.layers.convolutional import MaxPooling1D"
   ]
  },
  {
   "cell_type": "code",
   "execution_count": null,
   "id": "c707c72a",
   "metadata": {
    "scrolled": true
   },
   "outputs": [
    {
     "name": "stdout",
     "output_type": "stream",
     "text": [
      "Model: \"sequential_3\"\n",
      "_________________________________________________________________\n",
      " Layer (type)                Output Shape              Param #   \n",
      "=================================================================\n",
      " embedding_3 (Embedding)     (None, None, 32)          960000    \n",
      "                                                                 \n",
      " conv1d_3 (Conv1D)           (None, None, 32)          3104      \n",
      "                                                                 \n",
      " max_pooling1d_3 (MaxPooling  (None, None, 32)         0         \n",
      " 1D)                                                             \n",
      "                                                                 \n",
      " lstm_3 (LSTM)               (None, 128)               82432     \n",
      "                                                                 \n",
      " dropout_3 (Dropout)         (None, 128)               0         \n",
      "                                                                 \n",
      " dense_3 (Dense)             (None, 1)                 129       \n",
      "                                                                 \n",
      "=================================================================\n",
      "Total params: 1,045,665\n",
      "Trainable params: 1,045,665\n",
      "Non-trainable params: 0\n",
      "_________________________________________________________________\n",
      "None\n",
      "Epoch 1/20\n",
      "184/335 [===============>..............] - ETA: 3:51 - loss: 0.6930 - accuracy: 0.5112"
     ]
    }
   ],
   "source": [
    "# import numpy as np\n",
    "# from sklearn.feature_extraction.text import TfidfVectorizer\n",
    "tfidf_vectorizer = TfidfVectorizer()\n",
    "def tfidf_features(feature_train, feature_test):\n",
    "    feature_train_tfidf = tfidf_vectorizer.fit_transform(feature_train).toarray()\n",
    "    feature_test_tfidf = tfidf_vectorizer.transform(feature_test).toarray()\n",
    "    return feature_train_tfidf,feature_test_tfidf,tfidf_vectorizer.vocabulary_\n",
    "feature_train_tfidf,feature_test_tfidf,vocabulary=tfidf_features(feature_train,feature_test)\n",
    "model = Sequential()\n",
    "model.add(Embedding(30000, 32))\n",
    "model.add(Conv1D(filters=32, kernel_size=3, padding='same', activation='relu'))\n",
    "model.add(MaxPooling1D(pool_size=2))\n",
    "model.add(LSTM(128))\n",
    "model.add(Dropout(0.2))\n",
    "model.add(Dense(1, activation='sigmoid'))\n",
    "model.compile(loss='binary_crossentropy', optimizer='adam', metrics=['accuracy'])\n",
    "print(model.summary())\n",
    "model.fit(feature_train_tfidf, label_train, epochs=20, batch_size=64)\n",
    "scores = model.evaluate(feature_test_tfidf, label_test, verbose=0)\n",
    "print(\"Accuracy: %.2f%%\" % (scores[1]*100))"
   ]
  },
  {
   "cell_type": "code",
   "execution_count": null,
   "id": "8d0efb9f",
   "metadata": {},
   "outputs": [],
   "source": [
    "# prediction = model.predict(feature_test_tfidf)\n",
    "# print('accuracy %s' % accuracy_score(prediction, label_test))\n",
    "# print(classification_report(label_test, prediction))"
   ]
  },
  {
   "cell_type": "code",
   "execution_count": null,
   "id": "186c77d8",
   "metadata": {},
   "outputs": [],
   "source": []
  }
 ],
 "metadata": {
  "interpreter": {
   "hash": "3b3361eea9ad770e1b9ddf2a02c07134d9907bc8d69d7867e0b684ae753730c4"
  },
  "kernelspec": {
   "display_name": "Python 3 (ipykernel)",
   "language": "python",
   "name": "python3"
  },
  "language_info": {
   "codemirror_mode": {
    "name": "ipython",
    "version": 3
   },
   "file_extension": ".py",
   "mimetype": "text/x-python",
   "name": "python",
   "nbconvert_exporter": "python",
   "pygments_lexer": "ipython3",
   "version": "3.9.12"
  }
 },
 "nbformat": 4,
 "nbformat_minor": 5
}
