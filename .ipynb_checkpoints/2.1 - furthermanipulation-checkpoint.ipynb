{
 "cells": [
  {
   "cell_type": "code",
   "execution_count": 1,
   "id": "fe9ae66f",
   "metadata": {},
   "outputs": [],
   "source": [
    "# Importing pandas library for dataset manipulation\n",
    "import pandas as pd"
   ]
  },
  {
   "cell_type": "code",
   "execution_count": 2,
   "id": "e5e4614d",
   "metadata": {},
   "outputs": [],
   "source": [
    "# importing raw dataset generated from tweets scraping\n",
    "tweets_df = pd.read_csv('1.2 - scraped-tweets.csv', header=None)"
   ]
  },
  {
   "cell_type": "code",
   "execution_count": 3,
   "id": "700f4c06",
   "metadata": {},
   "outputs": [
    {
     "data": {
      "text/html": [
       "<div>\n",
       "<style scoped>\n",
       "    .dataframe tbody tr th:only-of-type {\n",
       "        vertical-align: middle;\n",
       "    }\n",
       "\n",
       "    .dataframe tbody tr th {\n",
       "        vertical-align: top;\n",
       "    }\n",
       "\n",
       "    .dataframe thead th {\n",
       "        text-align: right;\n",
       "    }\n",
       "</style>\n",
       "<table border=\"1\" class=\"dataframe\">\n",
       "  <thead>\n",
       "    <tr style=\"text-align: right;\">\n",
       "      <th></th>\n",
       "      <th>0</th>\n",
       "    </tr>\n",
       "  </thead>\n",
       "  <tbody>\n",
       "    <tr>\n",
       "      <th>0</th>\n",
       "      <td>जुम्राको उत्पति को कथा त कास्टिङ मात्र हो हेर्...</td>\n",
       "    </tr>\n",
       "    <tr>\n",
       "      <th>1</th>\n",
       "      <td>स्याङ्जाको पुतलीबजार नगरपालिका गण्डकी प्रदेशको...</td>\n",
       "    </tr>\n",
       "    <tr>\n",
       "      <th>2</th>\n",
       "      <td>फेक मिडिया गरेर दुनियाँमा अफबाह फैलाउनेलाई भाट...</td>\n",
       "    </tr>\n",
       "    <tr>\n",
       "      <th>3</th>\n",
       "      <td>चाइनाने कोरोना फैलाउछ र किटमास्क बेच्छ अमेरिका...</td>\n",
       "    </tr>\n",
       "    <tr>\n",
       "      <th>4</th>\n",
       "      <td>जोर र बिजोर ले अर्थतन्त्र लाईन मा आउने भए तेत्...</td>\n",
       "    </tr>\n",
       "  </tbody>\n",
       "</table>\n",
       "</div>"
      ],
      "text/plain": [
       "                                                   0\n",
       "0  जुम्राको उत्पति को कथा त कास्टिङ मात्र हो हेर्...\n",
       "1  स्याङ्जाको पुतलीबजार नगरपालिका गण्डकी प्रदेशको...\n",
       "2  फेक मिडिया गरेर दुनियाँमा अफबाह फैलाउनेलाई भाट...\n",
       "3  चाइनाने कोरोना फैलाउछ र किटमास्क बेच्छ अमेरिका...\n",
       "4  जोर र बिजोर ले अर्थतन्त्र लाईन मा आउने भए तेत्..."
      ]
     },
     "execution_count": 3,
     "metadata": {},
     "output_type": "execute_result"
    }
   ],
   "source": [
    "tweets_df.head()"
   ]
  },
  {
   "cell_type": "code",
   "execution_count": 4,
   "id": "c1c42ccb",
   "metadata": {},
   "outputs": [
    {
     "data": {
      "text/plain": [
       "(28575, 1)"
      ]
     },
     "execution_count": 4,
     "metadata": {},
     "output_type": "execute_result"
    }
   ],
   "source": [
    "# Defining name of column for the tweets\n",
    "tweets_df.columns = [\"tweets\"]\n",
    "tweets_df.shape"
   ]
  },
  {
   "cell_type": "code",
   "execution_count": 5,
   "id": "55e46e4d",
   "metadata": {},
   "outputs": [
    {
     "data": {
      "text/plain": [
       "(28575, 1)"
      ]
     },
     "execution_count": 5,
     "metadata": {},
     "output_type": "execute_result"
    }
   ],
   "source": [
    "# Dropping null columns and duplicate data having same tweets\n",
    "tweets_df = tweets_df.dropna()\n",
    "tweets_df = tweets_df.drop_duplicates(subset=['tweets'], keep='first')\n",
    "tweets_df.shape"
   ]
  },
  {
   "cell_type": "code",
   "execution_count": 6,
   "id": "845ff3e2",
   "metadata": {},
   "outputs": [
    {
     "data": {
      "text/plain": [
       "(28575, 1)"
      ]
     },
     "execution_count": 6,
     "metadata": {},
     "output_type": "execute_result"
    }
   ],
   "source": [
    "# resetting index for the dataset \n",
    "tweets_df = tweets_df.reset_index(drop=False)\n",
    "tweets_df.drop('index', inplace=True, axis=1)\n",
    "tweets_df.head()\n",
    "tweets_df.shape"
   ]
  },
  {
   "cell_type": "code",
   "execution_count": 7,
   "id": "2ee2ce9a",
   "metadata": {
    "scrolled": false
   },
   "outputs": [
    {
     "data": {
      "text/plain": [
       "[('कोभिड', 29212),\n",
       " ('छ', 10798),\n",
       " ('को', 8986),\n",
       " ('र', 8297),\n",
       " ('कोरोना', 8120),\n",
       " ('भाइरस', 4336),\n",
       " ('भएको', 4011),\n",
       " ('पनि', 3482),\n",
       " ('संक्रमण', 3172),\n",
       " ('मृत्यु', 3129)]"
      ]
     },
     "execution_count": 7,
     "metadata": {},
     "output_type": "execute_result"
    }
   ],
   "source": [
    "# Retiving most used words so that words with no meaning could be added to stop words list\n",
    "import collections\n",
    "cloud_text = ' '.join(tweets_df['tweets'])\n",
    "words_frequency = collections.Counter(cloud_text.split())\n",
    "words_frequency.most_common(500)[:10]"
   ]
  },
  {
   "cell_type": "code",
   "execution_count": 8,
   "id": "df95e851",
   "metadata": {},
   "outputs": [],
   "source": [
    "# Reading stop words from external file and storing it to set \n",
    "with open('stop_words.txt', encoding=\"utf-8\") as f:\n",
    "    words = [line.strip() for line in f]\n",
    "stop_words = set(words)"
   ]
  },
  {
   "cell_type": "code",
   "execution_count": 9,
   "id": "7922df56",
   "metadata": {},
   "outputs": [
    {
     "data": {
      "text/plain": [
       "'तिनिहरुलाई, दिनुभएको, भन्दा, अरु, आदि, साँच्चै, अब, सक्दैन, तिनी, किन, राखे, एउटै, र, गर्नेछन्, अनुसार, कम से कम, उप, भन्ने, बाहेक, बीच, बिशेष, लगभग, सबैलाई, हाम्रो, कसैले, पहिले, छौँ, कोभिड, उन, अन्यत्र, आफ्नो, जब, बाट, होला, कोरोना, आफैलाई, हुनेछ, चाहन्छौ, अरुलाई, गर्छु, अन्यथा, जस्तो, पछि, जहाँ, विरुद्ध, थिएनन्, कुरा, देखेको, लाई, तथा, नेपाल, देखिन्छ, केवल, गर्दछ, तपाईं, छौं, जसमा, गयौ, प्लस, यद्यपि, कहिल्यै, जसको, तत्काल, चार, ती, गरौं, तीन, अगाडि, रूप, छ, तर, विश्वभर, गरेका, सबै, बन्न, आफू, जसले, देखि, पटक, हुँदैन, हुन, साथ, यहाँ, भन्, केहि, सही, देख, संगै, जस्तै, यस्तो, हुँ, हौं, कसै, गर्नु, कोही, ठीक, भने, उनीहरु, जसलाई, आफूलाई, तापनि, सोही, अर्थात, ले, सँग, बन्द, शायद, दोश्रो, चाहनुहुन्छ, यदि, द्वारा, जसबाट, यस, निम्नानुसार, प्रति, गैर, स्पष्ट, तिम्रो, छैन, काठमाडौं, धेरै, तपाई, अन्तर्गत, दिनुहुन्छ, त्यसैले, गर्न, हुन्, एक, भए, अरूलाई, यो, वरिपरि, तिनीहरूको, गए, दिए, हामीसँग, लागि, उनले, आजको, तिमी, प्रतेक, सँगै, तेस्कारण, गरी, तिनीहरूले, कहाँ, अर्थात्, यसैले, पनि, अक्सर, साथै, देखियो, हुने, आए, तुरुन्तै, तिमि, नजिकै, सकदिन, भएको, देखेर, पाँचौं, का, विशेष, समयमा, गर्छ, सम्भव, दुई, वरीपरी, जताततै, सधै, पक्का, फेरी, हामी, यहाँसम्म, नि, छु, आत्म, यथोचित, त्यसमा, कहिले, वास्तवमा, सो, कहीं, गरेर, अलग, पर्थ्यो, पर्याप्त, आफै, पछिल्लो, त्यसपछि, जस्तोसुकै, हुनेछु, तपाईको, बीचमा, के, उनको, हो, आयो, यसरी, सधैं, चाहन्छु, थप, मँ, माथि, उसलाई, बारेमा, कतै, अर्को, तल, वाहेक, गर, दोस्रो, सायद, सारा, भर, किनभने, उहाँलाई, अधिक, आठ, अरू, मुख्य, सम्म, तपाइँको, भित्र, रही, पर्छ, कहिलेकाहीं, आफ्नै, जे, थियो, मार्फत, हरे, त्यसकारण, सात, यसबाहेक, बने, तिर, गर्ने, चाहन्थे, अन्य, तदनुसार, गरेको, पहिलो, भन, एकदम, मलाई, तिनीहरूलाई, बाटो, नयाँ, मा, समय, हुनु, उस्तै, तिनीहरू, देखे, नत्र, सक्छ, तेस्रो, गर्दै, नेपालमा, गरे, गर्नुपर्छ, न, रहेको, कस्तो, नौ, हुन्थे, मैले, मात्र, मेरो, ओठ, गर्नेछौ, चाहन्छौं, ऊ, होइन, निम्न, भन्छु, पाँच, सट्टा, क्रमशः, भने्, गरि, जाहिर, संग, बारे, पूर्व, वा, हुन्छ, चाले, सकिएन, नै, औं, छन्, पक्कै, यसपछि, हुनुहुन्छ, कुनै, पहिल्यै, राख्छ, थिएन, जो, तिमीसँग, भन्छन्, कहाँबाट, थिए, छू, रहेका, उदाहरण, त्यहाँ, कसरी, यसको, होस्, म, बाहिर, हामीलाई, निर्दिष्ट, प्रत्येक, आफैले, तिनीहरुको, कि, अझै, देख्न, हरेक, उहालाई, जबकि, चाहिए, सोध्न, त्यो, यसो, राम्रो, यति, को, भन्नुभयो, कृपया, या, उनि, भित्री, बिरुद्ध, उहाँ, दुबै, होइनन्, यी, त्सैले, केही, चाँडै, गर्यौं, जान, फेरि, त, उनी, निम्ति, नगर्नुहोस्, बरु, तापनी, जुन, त्सपछि'"
      ]
     },
     "execution_count": 9,
     "metadata": {},
     "output_type": "execute_result"
    }
   ],
   "source": [
    "\", \".join(stop_words)"
   ]
  },
  {
   "cell_type": "code",
   "execution_count": 9,
   "id": "fbd4b465",
   "metadata": {},
   "outputs": [],
   "source": [
    "# Importing libraries for cleaning and preprocessing tweets\n",
    "from Nepali_nlp import Stem\n",
    "from inltk.inltk import tokenize\n",
    "from nltk.tokenize import word_tokenize"
   ]
  },
  {
   "cell_type": "code",
   "execution_count": 10,
   "id": "5a240354",
   "metadata": {},
   "outputs": [],
   "source": [
    "# Tokenizing, steaming and stop word removing from tweets\n",
    "def clean_tweets(text):\n",
    "#     print(text)\n",
    "    nltk_token = word_tokenize(text)\n",
    "    nltk_tokens = [word for word in nltk_token if word not in stop_words]\n",
    "    text = \" \".join(nltk_tokens)\n",
    "    steams = [word for word in Stem().rootify(text) if word not in stop_words]\n",
    "    steamed_text = \" \".join(steams)\n",
    "    return steamed_text"
   ]
  },
  {
   "cell_type": "code",
   "execution_count": 11,
   "id": "e91220cd",
   "metadata": {},
   "outputs": [],
   "source": [
    "# Tokenizing tweets with the help of inltk library\n",
    "def inltk_clean_tweets(steamed_text):\n",
    "    tokens = tokenize(steamed_text, 'ne')\n",
    "    tokens = [word for word in tokens if (word not in stop_words and word.replace('▁', '') not in stop_words)]\n",
    "    cleaned_text =  \" \".join(tokens)\n",
    "    return cleaned_text"
   ]
  },
  {
   "cell_type": "code",
   "execution_count": 12,
   "id": "b52ff0f8",
   "metadata": {},
   "outputs": [],
   "source": [
    "# preprocess(tweets_df['tweets'][2])"
   ]
  },
  {
   "cell_type": "code",
   "execution_count": 13,
   "id": "15aaba45",
   "metadata": {},
   "outputs": [],
   "source": [
    "# creating new column based on clean_tweets function\n",
    "tweets_df['cleaned_tweets'] = tweets_df['tweets'].apply(clean_tweets)"
   ]
  },
  {
   "cell_type": "code",
   "execution_count": 14,
   "id": "aa91627e",
   "metadata": {},
   "outputs": [
    {
     "data": {
      "text/html": [
       "<div>\n",
       "<style scoped>\n",
       "    .dataframe tbody tr th:only-of-type {\n",
       "        vertical-align: middle;\n",
       "    }\n",
       "\n",
       "    .dataframe tbody tr th {\n",
       "        vertical-align: top;\n",
       "    }\n",
       "\n",
       "    .dataframe thead th {\n",
       "        text-align: right;\n",
       "    }\n",
       "</style>\n",
       "<table border=\"1\" class=\"dataframe\">\n",
       "  <thead>\n",
       "    <tr style=\"text-align: right;\">\n",
       "      <th></th>\n",
       "      <th>tweets</th>\n",
       "      <th>cleaned_tweets</th>\n",
       "    </tr>\n",
       "  </thead>\n",
       "  <tbody>\n",
       "    <tr>\n",
       "      <th>0</th>\n",
       "      <td>जुम्राको उत्पति को कथा त कास्टिङ मात्र हो हेर्...</td>\n",
       "      <td>जुम्रा उत्पति कथा कास्टिङ हेर् गर्नुस दुनिया र...</td>\n",
       "    </tr>\n",
       "    <tr>\n",
       "      <th>1</th>\n",
       "      <td>स्याङ्जाको पुतलीबजार नगरपालिका गण्डकी प्रदेशको...</td>\n",
       "      <td>स्याङ्जा पुतलीबजार नगरपालि गण्ड प्रदेश कोभिड१९...</td>\n",
       "    </tr>\n",
       "    <tr>\n",
       "      <th>2</th>\n",
       "      <td>फेक मिडिया गरेर दुनियाँमा अफबाह फैलाउनेलाई भाट...</td>\n",
       "      <td>फेक मिडिया दुनियाँ अफबाह फैलाउ भाटा हान् सरकार...</td>\n",
       "    </tr>\n",
       "    <tr>\n",
       "      <th>3</th>\n",
       "      <td>चाइनाने कोरोना फैलाउछ र किटमास्क बेच्छ अमेरिका...</td>\n",
       "      <td>चाइना फैलाउ किटमास्क बेच् अमेरिका युद्ध फैलाउ ...</td>\n",
       "    </tr>\n",
       "    <tr>\n",
       "      <th>4</th>\n",
       "      <td>जोर र बिजोर ले अर्थतन्त्र लाईन मा आउने भए तेत्...</td>\n",
       "      <td>जोर बिजोर अर्थतन्त्र लाईन आउ तेत्रो संक्रमण बे...</td>\n",
       "    </tr>\n",
       "    <tr>\n",
       "      <th>...</th>\n",
       "      <td>...</td>\n",
       "      <td>...</td>\n",
       "    </tr>\n",
       "    <tr>\n",
       "      <th>28570</th>\n",
       "      <td>कोरोना भाईरस बिशेष गीत समूह बिश्व भरी कोरोना भ...</td>\n",
       "      <td>भाईरस गीत समूह बिश्व भरी भाईरस महामारी भाईरस प...</td>\n",
       "    </tr>\n",
       "    <tr>\n",
       "      <th>28571</th>\n",
       "      <td>सम्मान गर साथीहरुलाई अपमान होइन सत्ताको तातो र...</td>\n",
       "      <td>सम्मान सा अपमान सत्ता तातो राप निस्क कठोर शब्द...</td>\n",
       "    </tr>\n",
       "    <tr>\n",
       "      <th>28572</th>\n",
       "      <td>कोरोना कहरले दुई वर्ष हुन नसकेको माध्यमिक शिक्...</td>\n",
       "      <td>कहर वर्ष नसक माध्यमिक शिक्षा परीक्षा यसवर्ष आज...</td>\n",
       "    </tr>\n",
       "    <tr>\n",
       "      <th>28573</th>\n",
       "      <td>काठमाडौँको मेयरको प्रदिस्पर्दमा त मिस्टर भिसिट...</td>\n",
       "      <td>काठमाडौँ मेयर प्रदिस्पर्द मिस्टर भिसिट उर्फ को...</td>\n",
       "    </tr>\n",
       "    <tr>\n",
       "      <th>28574</th>\n",
       "      <td>जनस्वास्थ्य का मैं बिद्वान हु भनेर कोभीड को बे...</td>\n",
       "      <td>जनस्वास्थ्य मैं बिद्वान हु भनेर कोभीड बेला टेल...</td>\n",
       "    </tr>\n",
       "  </tbody>\n",
       "</table>\n",
       "<p>28575 rows × 2 columns</p>\n",
       "</div>"
      ],
      "text/plain": [
       "                                                  tweets  \\\n",
       "0      जुम्राको उत्पति को कथा त कास्टिङ मात्र हो हेर्...   \n",
       "1      स्याङ्जाको पुतलीबजार नगरपालिका गण्डकी प्रदेशको...   \n",
       "2      फेक मिडिया गरेर दुनियाँमा अफबाह फैलाउनेलाई भाट...   \n",
       "3      चाइनाने कोरोना फैलाउछ र किटमास्क बेच्छ अमेरिका...   \n",
       "4      जोर र बिजोर ले अर्थतन्त्र लाईन मा आउने भए तेत्...   \n",
       "...                                                  ...   \n",
       "28570  कोरोना भाईरस बिशेष गीत समूह बिश्व भरी कोरोना भ...   \n",
       "28571  सम्मान गर साथीहरुलाई अपमान होइन सत्ताको तातो र...   \n",
       "28572  कोरोना कहरले दुई वर्ष हुन नसकेको माध्यमिक शिक्...   \n",
       "28573  काठमाडौँको मेयरको प्रदिस्पर्दमा त मिस्टर भिसिट...   \n",
       "28574  जनस्वास्थ्य का मैं बिद्वान हु भनेर कोभीड को बे...   \n",
       "\n",
       "                                          cleaned_tweets  \n",
       "0      जुम्रा उत्पति कथा कास्टिङ हेर् गर्नुस दुनिया र...  \n",
       "1      स्याङ्जा पुतलीबजार नगरपालि गण्ड प्रदेश कोभिड१९...  \n",
       "2      फेक मिडिया दुनियाँ अफबाह फैलाउ भाटा हान् सरकार...  \n",
       "3      चाइना फैलाउ किटमास्क बेच् अमेरिका युद्ध फैलाउ ...  \n",
       "4      जोर बिजोर अर्थतन्त्र लाईन आउ तेत्रो संक्रमण बे...  \n",
       "...                                                  ...  \n",
       "28570  भाईरस गीत समूह बिश्व भरी भाईरस महामारी भाईरस प...  \n",
       "28571  सम्मान सा अपमान सत्ता तातो राप निस्क कठोर शब्द...  \n",
       "28572  कहर वर्ष नसक माध्यमिक शिक्षा परीक्षा यसवर्ष आज...  \n",
       "28573  काठमाडौँ मेयर प्रदिस्पर्द मिस्टर भिसिट उर्फ को...  \n",
       "28574  जनस्वास्थ्य मैं बिद्वान हु भनेर कोभीड बेला टेल...  \n",
       "\n",
       "[28575 rows x 2 columns]"
      ]
     },
     "execution_count": 14,
     "metadata": {},
     "output_type": "execute_result"
    }
   ],
   "source": [
    "tweets_df"
   ]
  },
  {
   "cell_type": "code",
   "execution_count": 15,
   "id": "1d61ee57",
   "metadata": {},
   "outputs": [],
   "source": [
    "# creating new column based on clean_tweets function\n",
    "tweets_df['cleaned_tweets'] = tweets_df['tweets'].apply(clean_tweets)\n",
    "\n",
    "# creating new column based on inltk_clean_tweets function\n",
    "tweets_df['inltk_cleaned_tweets'] = tweets_df['cleaned_tweets'].apply(inltk_clean_tweets)"
   ]
  },
  {
   "cell_type": "code",
   "execution_count": 16,
   "id": "fd7b04c6",
   "metadata": {},
   "outputs": [
    {
     "data": {
      "text/html": [
       "<div>\n",
       "<style scoped>\n",
       "    .dataframe tbody tr th:only-of-type {\n",
       "        vertical-align: middle;\n",
       "    }\n",
       "\n",
       "    .dataframe tbody tr th {\n",
       "        vertical-align: top;\n",
       "    }\n",
       "\n",
       "    .dataframe thead th {\n",
       "        text-align: right;\n",
       "    }\n",
       "</style>\n",
       "<table border=\"1\" class=\"dataframe\">\n",
       "  <thead>\n",
       "    <tr style=\"text-align: right;\">\n",
       "      <th></th>\n",
       "      <th>tweets</th>\n",
       "      <th>cleaned_tweets</th>\n",
       "      <th>inltk_cleaned_tweets</th>\n",
       "    </tr>\n",
       "  </thead>\n",
       "  <tbody>\n",
       "    <tr>\n",
       "      <th>0</th>\n",
       "      <td>जुम्राको उत्पति को कथा त कास्टिङ मात्र हो हेर्...</td>\n",
       "      <td>जुम्रा उत्पति कथा कास्टिङ हेर् गर्नुस दुनिया र...</td>\n",
       "      <td>▁जु म् रा ▁उत्पति ▁कथा स्ट िङ ▁हे र् स ▁दुनिया...</td>\n",
       "    </tr>\n",
       "    <tr>\n",
       "      <th>1</th>\n",
       "      <td>स्याङ्जाको पुतलीबजार नगरपालिका गण्डकी प्रदेशको...</td>\n",
       "      <td>स्याङ्जा पुतलीबजार नगरपालि गण्ड प्रदेश कोभिड१९...</td>\n",
       "      <td>▁स्याङ्जा ▁पुतलीबजार ▁नगर पा लि ▁ग ण्ड ▁प्रदेश...</td>\n",
       "    </tr>\n",
       "    <tr>\n",
       "      <th>2</th>\n",
       "      <td>फेक मिडिया गरेर दुनियाँमा अफबाह फैलाउनेलाई भाट...</td>\n",
       "      <td>फेक मिडिया दुनियाँ अफबाह फैलाउ भाटा हान् सरकार...</td>\n",
       "      <td>▁फे क ▁मिडिया ▁दुनियाँ ▁अफ बाह ▁फैल ा उ ▁भा टा...</td>\n",
       "    </tr>\n",
       "    <tr>\n",
       "      <th>3</th>\n",
       "      <td>चाइनाने कोरोना फैलाउछ र किटमास्क बेच्छ अमेरिका...</td>\n",
       "      <td>चाइना फैलाउ किटमास्क बेच् अमेरिका युद्ध फैलाउ ...</td>\n",
       "      <td>▁ चाइना ▁फैल ा उ ट स्क ▁बेच ् ▁अमेरिका ▁युद्ध ...</td>\n",
       "    </tr>\n",
       "    <tr>\n",
       "      <th>4</th>\n",
       "      <td>जोर र बिजोर ले अर्थतन्त्र लाईन मा आउने भए तेत्...</td>\n",
       "      <td>जोर बिजोर अर्थतन्त्र लाईन आउ तेत्रो संक्रमण बे...</td>\n",
       "      <td>▁जोर ▁बि जोर ▁अर्थतन्त्र ▁लाईन ▁आउ ▁ते त्रो ▁स...</td>\n",
       "    </tr>\n",
       "    <tr>\n",
       "      <th>...</th>\n",
       "      <td>...</td>\n",
       "      <td>...</td>\n",
       "      <td>...</td>\n",
       "    </tr>\n",
       "    <tr>\n",
       "      <th>28570</th>\n",
       "      <td>कोरोना भाईरस बिशेष गीत समूह बिश्व भरी कोरोना भ...</td>\n",
       "      <td>भाईरस गीत समूह बिश्व भरी भाईरस महामारी भाईरस प...</td>\n",
       "      <td>▁भाई रस ▁गीत ▁समूह ▁बिश्व ▁भरी ▁भाई रस ▁महामार...</td>\n",
       "    </tr>\n",
       "    <tr>\n",
       "      <th>28571</th>\n",
       "      <td>सम्मान गर साथीहरुलाई अपमान होइन सत्ताको तातो र...</td>\n",
       "      <td>सम्मान सा अपमान सत्ता तातो राप निस्क कठोर शब्द...</td>\n",
       "      <td>▁सम्मान ▁सा ▁अपमान ▁सत्ता ▁तातो ाप ▁निस्क ▁कठो...</td>\n",
       "    </tr>\n",
       "    <tr>\n",
       "      <th>28572</th>\n",
       "      <td>कोरोना कहरले दुई वर्ष हुन नसकेको माध्यमिक शिक्...</td>\n",
       "      <td>कहर वर्ष नसक माध्यमिक शिक्षा परीक्षा यसवर्ष आज...</td>\n",
       "      <td>▁कह ▁वर्ष सक ▁माध्यमिक ▁शिक्षा ▁परीक्षा वर्ष ▁...</td>\n",
       "    </tr>\n",
       "    <tr>\n",
       "      <th>28573</th>\n",
       "      <td>काठमाडौँको मेयरको प्रदिस्पर्दमा त मिस्टर भिसिट...</td>\n",
       "      <td>काठमाडौँ मेयर प्रदिस्पर्द मिस्टर भिसिट उर्फ को...</td>\n",
       "      <td>▁काठमाडौँ ▁मेयर ▁प्र दि स्प र्द ▁मिस्ट ▁भि सि ...</td>\n",
       "    </tr>\n",
       "    <tr>\n",
       "      <th>28574</th>\n",
       "      <td>जनस्वास्थ्य का मैं बिद्वान हु भनेर कोभीड को बे...</td>\n",
       "      <td>जनस्वास्थ्य मैं बिद्वान हु भनेर कोभीड बेला टेल...</td>\n",
       "      <td>▁जन स्वास्थ्य ▁मै ं ▁बि द् वान ▁हु ▁भनेर भी ड ...</td>\n",
       "    </tr>\n",
       "  </tbody>\n",
       "</table>\n",
       "<p>28575 rows × 3 columns</p>\n",
       "</div>"
      ],
      "text/plain": [
       "                                                  tweets  \\\n",
       "0      जुम्राको उत्पति को कथा त कास्टिङ मात्र हो हेर्...   \n",
       "1      स्याङ्जाको पुतलीबजार नगरपालिका गण्डकी प्रदेशको...   \n",
       "2      फेक मिडिया गरेर दुनियाँमा अफबाह फैलाउनेलाई भाट...   \n",
       "3      चाइनाने कोरोना फैलाउछ र किटमास्क बेच्छ अमेरिका...   \n",
       "4      जोर र बिजोर ले अर्थतन्त्र लाईन मा आउने भए तेत्...   \n",
       "...                                                  ...   \n",
       "28570  कोरोना भाईरस बिशेष गीत समूह बिश्व भरी कोरोना भ...   \n",
       "28571  सम्मान गर साथीहरुलाई अपमान होइन सत्ताको तातो र...   \n",
       "28572  कोरोना कहरले दुई वर्ष हुन नसकेको माध्यमिक शिक्...   \n",
       "28573  काठमाडौँको मेयरको प्रदिस्पर्दमा त मिस्टर भिसिट...   \n",
       "28574  जनस्वास्थ्य का मैं बिद्वान हु भनेर कोभीड को बे...   \n",
       "\n",
       "                                          cleaned_tweets  \\\n",
       "0      जुम्रा उत्पति कथा कास्टिङ हेर् गर्नुस दुनिया र...   \n",
       "1      स्याङ्जा पुतलीबजार नगरपालि गण्ड प्रदेश कोभिड१९...   \n",
       "2      फेक मिडिया दुनियाँ अफबाह फैलाउ भाटा हान् सरकार...   \n",
       "3      चाइना फैलाउ किटमास्क बेच् अमेरिका युद्ध फैलाउ ...   \n",
       "4      जोर बिजोर अर्थतन्त्र लाईन आउ तेत्रो संक्रमण बे...   \n",
       "...                                                  ...   \n",
       "28570  भाईरस गीत समूह बिश्व भरी भाईरस महामारी भाईरस प...   \n",
       "28571  सम्मान सा अपमान सत्ता तातो राप निस्क कठोर शब्द...   \n",
       "28572  कहर वर्ष नसक माध्यमिक शिक्षा परीक्षा यसवर्ष आज...   \n",
       "28573  काठमाडौँ मेयर प्रदिस्पर्द मिस्टर भिसिट उर्फ को...   \n",
       "28574  जनस्वास्थ्य मैं बिद्वान हु भनेर कोभीड बेला टेल...   \n",
       "\n",
       "                                    inltk_cleaned_tweets  \n",
       "0      ▁जु म् रा ▁उत्पति ▁कथा स्ट िङ ▁हे र् स ▁दुनिया...  \n",
       "1      ▁स्याङ्जा ▁पुतलीबजार ▁नगर पा लि ▁ग ण्ड ▁प्रदेश...  \n",
       "2      ▁फे क ▁मिडिया ▁दुनियाँ ▁अफ बाह ▁फैल ा उ ▁भा टा...  \n",
       "3      ▁ चाइना ▁फैल ा उ ट स्क ▁बेच ् ▁अमेरिका ▁युद्ध ...  \n",
       "4      ▁जोर ▁बि जोर ▁अर्थतन्त्र ▁लाईन ▁आउ ▁ते त्रो ▁स...  \n",
       "...                                                  ...  \n",
       "28570  ▁भाई रस ▁गीत ▁समूह ▁बिश्व ▁भरी ▁भाई रस ▁महामार...  \n",
       "28571  ▁सम्मान ▁सा ▁अपमान ▁सत्ता ▁तातो ाप ▁निस्क ▁कठो...  \n",
       "28572  ▁कह ▁वर्ष सक ▁माध्यमिक ▁शिक्षा ▁परीक्षा वर्ष ▁...  \n",
       "28573  ▁काठमाडौँ ▁मेयर ▁प्र दि स्प र्द ▁मिस्ट ▁भि सि ...  \n",
       "28574  ▁जन स्वास्थ्य ▁मै ं ▁बि द् वान ▁हु ▁भनेर भी ड ...  \n",
       "\n",
       "[28575 rows x 3 columns]"
      ]
     },
     "execution_count": 16,
     "metadata": {},
     "output_type": "execute_result"
    }
   ],
   "source": [
    "tweets_df"
   ]
  },
  {
   "cell_type": "code",
   "execution_count": 17,
   "id": "2c5d3fa7",
   "metadata": {},
   "outputs": [
    {
     "data": {
      "text/plain": [
       "(28575, 3)"
      ]
     },
     "execution_count": 17,
     "metadata": {},
     "output_type": "execute_result"
    }
   ],
   "source": [
    "tweets_df = tweets_df.drop_duplicates(subset=['tweets'], keep='first')\n",
    "tweets_df = tweets_df.dropna(subset=['inltk_cleaned_tweets'])\n",
    "tweets_df = tweets_df.dropna(subset=['cleaned_tweets'])\n",
    "tweets_df = tweets_df.dropna(subset=['tweets'])\n",
    "tweets_df = tweets_df.reset_index(drop=False)\n",
    "tweets_df.drop('index', inplace=True, axis=1)"
   ]
  },
  {
   "cell_type": "code",
   "execution_count": 18,
   "id": "c6e8bb95",
   "metadata": {},
   "outputs": [],
   "source": [
    "# Exporting dataset to further label it\n",
    "tweets_df.to_csv('2.2 - unlabelled-tweets.csv', index=False)"
   ]
  },
  {
   "cell_type": "code",
   "execution_count": 19,
   "id": "f0793148",
   "metadata": {},
   "outputs": [],
   "source": [
    "# !pip install tensorflow-history-plot"
   ]
  },
  {
   "cell_type": "code",
   "execution_count": 25,
   "id": "d4a8d356",
   "metadata": {},
   "outputs": [
    {
     "data": {
      "text/html": [
       "<div>\n",
       "<style scoped>\n",
       "    .dataframe tbody tr th:only-of-type {\n",
       "        vertical-align: middle;\n",
       "    }\n",
       "\n",
       "    .dataframe tbody tr th {\n",
       "        vertical-align: top;\n",
       "    }\n",
       "\n",
       "    .dataframe thead th {\n",
       "        text-align: right;\n",
       "    }\n",
       "</style>\n",
       "<table border=\"1\" class=\"dataframe\">\n",
       "  <thead>\n",
       "    <tr style=\"text-align: right;\">\n",
       "      <th></th>\n",
       "      <th>tweets</th>\n",
       "      <th>cleaned_tweets</th>\n",
       "      <th>inltk_cleaned_tweets</th>\n",
       "    </tr>\n",
       "  </thead>\n",
       "  <tbody>\n",
       "    <tr>\n",
       "      <th>0</th>\n",
       "      <td>जुम्राको उत्पति को कथा त कास्टिङ मात्र हो हेर्...</td>\n",
       "      <td>जुम्रा उत्पति कथा कास्टिङ हेर् गर्नुस दुनिया र...</td>\n",
       "      <td>▁जु म् रा ▁उत्पति ▁कथा स्ट िङ ▁हे र् स ▁दुनिया...</td>\n",
       "    </tr>\n",
       "    <tr>\n",
       "      <th>1</th>\n",
       "      <td>स्याङ्जाको पुतलीबजार नगरपालिका गण्डकी प्रदेशको...</td>\n",
       "      <td>स्याङ्जा पुतलीबजार नगरपालि गण्ड प्रदेश कोभिड१९...</td>\n",
       "      <td>▁स्याङ्जा ▁पुतलीबजार ▁नगर पा लि ▁ग ण्ड ▁प्रदेश...</td>\n",
       "    </tr>\n",
       "    <tr>\n",
       "      <th>2</th>\n",
       "      <td>फेक मिडिया गरेर दुनियाँमा अफबाह फैलाउनेलाई भाट...</td>\n",
       "      <td>फेक मिडिया दुनियाँ अफबाह फैलाउ भाटा हान् सरकार...</td>\n",
       "      <td>▁फे क ▁मिडिया ▁दुनियाँ ▁अफ बाह ▁फैल ा उ ▁भा टा...</td>\n",
       "    </tr>\n",
       "    <tr>\n",
       "      <th>3</th>\n",
       "      <td>चाइनाने कोरोना फैलाउछ र किटमास्क बेच्छ अमेरिका...</td>\n",
       "      <td>चाइना फैलाउ किटमास्क बेच् अमेरिका युद्ध फैलाउ ...</td>\n",
       "      <td>▁ चाइना ▁फैल ा उ ट स्क ▁बेच ् ▁अमेरिका ▁युद्ध ...</td>\n",
       "    </tr>\n",
       "    <tr>\n",
       "      <th>4</th>\n",
       "      <td>जोर र बिजोर ले अर्थतन्त्र लाईन मा आउने भए तेत्...</td>\n",
       "      <td>जोर बिजोर अर्थतन्त्र लाईन आउ तेत्रो संक्रमण बे...</td>\n",
       "      <td>▁जोर ▁बि जोर ▁अर्थतन्त्र ▁लाईन ▁आउ ▁ते त्रो ▁स...</td>\n",
       "    </tr>\n",
       "    <tr>\n",
       "      <th>...</th>\n",
       "      <td>...</td>\n",
       "      <td>...</td>\n",
       "      <td>...</td>\n",
       "    </tr>\n",
       "    <tr>\n",
       "      <th>28570</th>\n",
       "      <td>कोरोना भाईरस बिशेष गीत समूह बिश्व भरी कोरोना भ...</td>\n",
       "      <td>भाईरस गीत समूह बिश्व भरी भाईरस महामारी भाईरस प...</td>\n",
       "      <td>▁भाई रस ▁गीत ▁समूह ▁बिश्व ▁भरी ▁भाई रस ▁महामार...</td>\n",
       "    </tr>\n",
       "    <tr>\n",
       "      <th>28571</th>\n",
       "      <td>सम्मान गर साथीहरुलाई अपमान होइन सत्ताको तातो र...</td>\n",
       "      <td>सम्मान सा अपमान सत्ता तातो राप निस्क कठोर शब्द...</td>\n",
       "      <td>▁सम्मान ▁सा ▁अपमान ▁सत्ता ▁तातो ाप ▁निस्क ▁कठो...</td>\n",
       "    </tr>\n",
       "    <tr>\n",
       "      <th>28572</th>\n",
       "      <td>कोरोना कहरले दुई वर्ष हुन नसकेको माध्यमिक शिक्...</td>\n",
       "      <td>कहर वर्ष नसक माध्यमिक शिक्षा परीक्षा यसवर्ष आज...</td>\n",
       "      <td>▁कह ▁वर्ष सक ▁माध्यमिक ▁शिक्षा ▁परीक्षा वर्ष ▁...</td>\n",
       "    </tr>\n",
       "    <tr>\n",
       "      <th>28573</th>\n",
       "      <td>काठमाडौँको मेयरको प्रदिस्पर्दमा त मिस्टर भिसिट...</td>\n",
       "      <td>काठमाडौँ मेयर प्रदिस्पर्द मिस्टर भिसिट उर्फ को...</td>\n",
       "      <td>▁काठमाडौँ ▁मेयर ▁प्र दि स्प र्द ▁मिस्ट ▁भि सि ...</td>\n",
       "    </tr>\n",
       "    <tr>\n",
       "      <th>28574</th>\n",
       "      <td>जनस्वास्थ्य का मैं बिद्वान हु भनेर कोभीड को बे...</td>\n",
       "      <td>जनस्वास्थ्य मैं बिद्वान हु भनेर कोभीड बेला टेल...</td>\n",
       "      <td>▁जन स्वास्थ्य ▁मै ं ▁बि द् वान ▁हु ▁भनेर भी ड ...</td>\n",
       "    </tr>\n",
       "  </tbody>\n",
       "</table>\n",
       "<p>28575 rows × 3 columns</p>\n",
       "</div>"
      ],
      "text/plain": [
       "                                                  tweets  \\\n",
       "0      जुम्राको उत्पति को कथा त कास्टिङ मात्र हो हेर्...   \n",
       "1      स्याङ्जाको पुतलीबजार नगरपालिका गण्डकी प्रदेशको...   \n",
       "2      फेक मिडिया गरेर दुनियाँमा अफबाह फैलाउनेलाई भाट...   \n",
       "3      चाइनाने कोरोना फैलाउछ र किटमास्क बेच्छ अमेरिका...   \n",
       "4      जोर र बिजोर ले अर्थतन्त्र लाईन मा आउने भए तेत्...   \n",
       "...                                                  ...   \n",
       "28570  कोरोना भाईरस बिशेष गीत समूह बिश्व भरी कोरोना भ...   \n",
       "28571  सम्मान गर साथीहरुलाई अपमान होइन सत्ताको तातो र...   \n",
       "28572  कोरोना कहरले दुई वर्ष हुन नसकेको माध्यमिक शिक्...   \n",
       "28573  काठमाडौँको मेयरको प्रदिस्पर्दमा त मिस्टर भिसिट...   \n",
       "28574  जनस्वास्थ्य का मैं बिद्वान हु भनेर कोभीड को बे...   \n",
       "\n",
       "                                          cleaned_tweets  \\\n",
       "0      जुम्रा उत्पति कथा कास्टिङ हेर् गर्नुस दुनिया र...   \n",
       "1      स्याङ्जा पुतलीबजार नगरपालि गण्ड प्रदेश कोभिड१९...   \n",
       "2      फेक मिडिया दुनियाँ अफबाह फैलाउ भाटा हान् सरकार...   \n",
       "3      चाइना फैलाउ किटमास्क बेच् अमेरिका युद्ध फैलाउ ...   \n",
       "4      जोर बिजोर अर्थतन्त्र लाईन आउ तेत्रो संक्रमण बे...   \n",
       "...                                                  ...   \n",
       "28570  भाईरस गीत समूह बिश्व भरी भाईरस महामारी भाईरस प...   \n",
       "28571  सम्मान सा अपमान सत्ता तातो राप निस्क कठोर शब्द...   \n",
       "28572  कहर वर्ष नसक माध्यमिक शिक्षा परीक्षा यसवर्ष आज...   \n",
       "28573  काठमाडौँ मेयर प्रदिस्पर्द मिस्टर भिसिट उर्फ को...   \n",
       "28574  जनस्वास्थ्य मैं बिद्वान हु भनेर कोभीड बेला टेल...   \n",
       "\n",
       "                                    inltk_cleaned_tweets  \n",
       "0      ▁जु म् रा ▁उत्पति ▁कथा स्ट िङ ▁हे र् स ▁दुनिया...  \n",
       "1      ▁स्याङ्जा ▁पुतलीबजार ▁नगर पा लि ▁ग ण्ड ▁प्रदेश...  \n",
       "2      ▁फे क ▁मिडिया ▁दुनियाँ ▁अफ बाह ▁फैल ा उ ▁भा टा...  \n",
       "3      ▁ चाइना ▁फैल ा उ ट स्क ▁बेच ् ▁अमेरिका ▁युद्ध ...  \n",
       "4      ▁जोर ▁बि जोर ▁अर्थतन्त्र ▁लाईन ▁आउ ▁ते त्रो ▁स...  \n",
       "...                                                  ...  \n",
       "28570  ▁भाई रस ▁गीत ▁समूह ▁बिश्व ▁भरी ▁भाई रस ▁महामार...  \n",
       "28571  ▁सम्मान ▁सा ▁अपमान ▁सत्ता ▁तातो ाप ▁निस्क ▁कठो...  \n",
       "28572  ▁कह ▁वर्ष सक ▁माध्यमिक ▁शिक्षा ▁परीक्षा वर्ष ▁...  \n",
       "28573  ▁काठमाडौँ ▁मेयर ▁प्र दि स्प र्द ▁मिस्ट ▁भि सि ...  \n",
       "28574  ▁जन स्वास्थ्य ▁मै ं ▁बि द् वान ▁हु ▁भनेर भी ड ...  \n",
       "\n",
       "[28575 rows x 3 columns]"
      ]
     },
     "execution_count": 25,
     "metadata": {},
     "output_type": "execute_result"
    }
   ],
   "source": [
    "tweets_df"
   ]
  },
  {
   "cell_type": "code",
   "execution_count": null,
   "id": "3f9be415",
   "metadata": {},
   "outputs": [],
   "source": []
  },
  {
   "cell_type": "code",
   "execution_count": null,
   "id": "ac877473",
   "metadata": {},
   "outputs": [],
   "source": []
  },
  {
   "cell_type": "code",
   "execution_count": null,
   "id": "940b9580",
   "metadata": {},
   "outputs": [],
   "source": []
  },
  {
   "cell_type": "code",
   "execution_count": null,
   "id": "a36d70b9",
   "metadata": {},
   "outputs": [],
   "source": []
  },
  {
   "cell_type": "code",
   "execution_count": null,
   "id": "11313fcb",
   "metadata": {},
   "outputs": [],
   "source": []
  },
  {
   "cell_type": "code",
   "execution_count": null,
   "id": "52e75776",
   "metadata": {},
   "outputs": [],
   "source": []
  },
  {
   "cell_type": "code",
   "execution_count": null,
   "id": "d1011a85",
   "metadata": {},
   "outputs": [],
   "source": []
  },
  {
   "cell_type": "code",
   "execution_count": null,
   "id": "32f9354e",
   "metadata": {},
   "outputs": [],
   "source": []
  },
  {
   "cell_type": "code",
   "execution_count": null,
   "id": "1f271d84",
   "metadata": {},
   "outputs": [],
   "source": []
  },
  {
   "cell_type": "code",
   "execution_count": null,
   "id": "4771c775",
   "metadata": {},
   "outputs": [],
   "source": []
  },
  {
   "cell_type": "code",
   "execution_count": 10,
   "id": "85053b48",
   "metadata": {},
   "outputs": [],
   "source": [
    "with open('short.txt', encoding=\"utf-8\") as f:\n",
    "    sw = [line.strip() for line in f]\n",
    "sf = set(words)"
   ]
  },
  {
   "cell_type": "code",
   "execution_count": null,
   "id": "a42359a5",
   "metadata": {},
   "outputs": [],
   "source": []
  },
  {
   "cell_type": "code",
   "execution_count": null,
   "id": "64286e78",
   "metadata": {},
   "outputs": [],
   "source": []
  },
  {
   "cell_type": "code",
   "execution_count": 20,
   "id": "51ef8ff7",
   "metadata": {},
   "outputs": [],
   "source": [
    "# labelled_df = pd.read_csv('2.3 - labelled-tweets.csv')\n",
    "# labelled_df['label']"
   ]
  },
  {
   "cell_type": "code",
   "execution_count": 21,
   "id": "0113160c",
   "metadata": {},
   "outputs": [],
   "source": [
    "# tweets_df['label'] = labelled_df['label']"
   ]
  },
  {
   "cell_type": "code",
   "execution_count": 22,
   "id": "62039846",
   "metadata": {},
   "outputs": [],
   "source": [
    "# tweets_df"
   ]
  },
  {
   "cell_type": "code",
   "execution_count": 23,
   "id": "2ee0cc46",
   "metadata": {},
   "outputs": [],
   "source": [
    "# labelled_df"
   ]
  },
  {
   "cell_type": "code",
   "execution_count": 24,
   "id": "1171cb5c",
   "metadata": {},
   "outputs": [],
   "source": [
    "# tweets_df.to_csv('2.3 - labelled-tweets.csv', index=False)"
   ]
  }
 ],
 "metadata": {
  "interpreter": {
   "hash": "3b3361eea9ad770e1b9ddf2a02c07134d9907bc8d69d7867e0b684ae753730c4"
  },
  "kernelspec": {
   "display_name": "Python 3 (ipykernel)",
   "language": "python",
   "name": "python3"
  },
  "language_info": {
   "codemirror_mode": {
    "name": "ipython",
    "version": 3
   },
   "file_extension": ".py",
   "mimetype": "text/x-python",
   "name": "python",
   "nbconvert_exporter": "python",
   "pygments_lexer": "ipython3",
   "version": "3.9.12"
  }
 },
 "nbformat": 4,
 "nbformat_minor": 5
}
