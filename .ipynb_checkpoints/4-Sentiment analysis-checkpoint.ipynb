{
 "cells": [
  {
   "cell_type": "code",
   "execution_count": 1,
   "id": "ea0ee00e",
   "metadata": {},
   "outputs": [],
   "source": [
    "import pandas as pd\n",
    "from inltk.inltk import tokenize"
   ]
  },
  {
   "cell_type": "code",
   "execution_count": 2,
   "id": "1ca64589",
   "metadata": {},
   "outputs": [
    {
     "data": {
      "text/html": [
       "<div>\n",
       "<style scoped>\n",
       "    .dataframe tbody tr th:only-of-type {\n",
       "        vertical-align: middle;\n",
       "    }\n",
       "\n",
       "    .dataframe tbody tr th {\n",
       "        vertical-align: top;\n",
       "    }\n",
       "\n",
       "    .dataframe thead th {\n",
       "        text-align: right;\n",
       "    }\n",
       "</style>\n",
       "<table border=\"1\" class=\"dataframe\">\n",
       "  <thead>\n",
       "    <tr style=\"text-align: right;\">\n",
       "      <th></th>\n",
       "      <th>tweets</th>\n",
       "      <th>cleaned_tweets</th>\n",
       "      <th>label</th>\n",
       "    </tr>\n",
       "  </thead>\n",
       "  <tbody>\n",
       "    <tr>\n",
       "      <th>0</th>\n",
       "      <td>जुम्राको उत्पति को कथा त कास्टिङ मात्र हो हेर्...</td>\n",
       "      <td>जु म् रा उत्पति कथा स्ट िङ हेर्दै स दुनिया  ुव...</td>\n",
       "      <td>0</td>\n",
       "    </tr>\n",
       "    <tr>\n",
       "      <th>1</th>\n",
       "      <td>स्याङ्जाको पुतलीबजार नगरपालिका गण्डकी प्रदेशको...</td>\n",
       "      <td>स्याङ्जा पुतलीबजार नगरपालिका गण्डकी प्रदेश भि ...</td>\n",
       "      <td>1</td>\n",
       "    </tr>\n",
       "    <tr>\n",
       "      <th>2</th>\n",
       "      <td>फेक मिडिया गरेर दुनियाँमा अफबाह फैलाउनेलाई भाट...</td>\n",
       "      <td>फे क मिडिया दुनियाँ अफ बाह फैल ाउने भा टा हान ...</td>\n",
       "      <td>0</td>\n",
       "    </tr>\n",
       "    <tr>\n",
       "      <th>3</th>\n",
       "      <td>चाइनाने कोरोना फैलाउछ र किटमास्क बेच्छ अमेरिका...</td>\n",
       "      <td>चाइना ने रो ना फैल ाउछ ट स्क बे च्छ अमेरिका य...</td>\n",
       "      <td>0</td>\n",
       "    </tr>\n",
       "    <tr>\n",
       "      <th>4</th>\n",
       "      <td>जोर र बिजोर ले अर्थतन्त्र लाईन मा आउने भए तेत्...</td>\n",
       "      <td>जोर बि जोर  अर्थतन्त्र लाईन आउने ते त्रो रो ना...</td>\n",
       "      <td>0</td>\n",
       "    </tr>\n",
       "  </tbody>\n",
       "</table>\n",
       "</div>"
      ],
      "text/plain": [
       "                                              tweets  \\\n",
       "0  जुम्राको उत्पति को कथा त कास्टिङ मात्र हो हेर्...   \n",
       "1  स्याङ्जाको पुतलीबजार नगरपालिका गण्डकी प्रदेशको...   \n",
       "2  फेक मिडिया गरेर दुनियाँमा अफबाह फैलाउनेलाई भाट...   \n",
       "3  चाइनाने कोरोना फैलाउछ र किटमास्क बेच्छ अमेरिका...   \n",
       "4  जोर र बिजोर ले अर्थतन्त्र लाईन मा आउने भए तेत्...   \n",
       "\n",
       "                                      cleaned_tweets  label  \n",
       "0  जु म् रा उत्पति कथा स्ट िङ हेर्दै स दुनिया  ुव...      0  \n",
       "1  स्याङ्जा पुतलीबजार नगरपालिका गण्डकी प्रदेश भि ...      1  \n",
       "2  फे क मिडिया दुनियाँ अफ बाह फैल ाउने भा टा हान ...      0  \n",
       "3   चाइना ने रो ना फैल ाउछ ट स्क बे च्छ अमेरिका य...      0  \n",
       "4  जोर बि जोर  अर्थतन्त्र लाईन आउने ते त्रो रो ना...      0  "
      ]
     },
     "execution_count": 2,
     "metadata": {},
     "output_type": "execute_result"
    }
   ],
   "source": [
    "tweets_df = pd.read_csv('3.1-labelled-tweets.csv')\n",
    "tweets_df.head()"
   ]
  },
  {
   "cell_type": "code",
   "execution_count": 3,
   "id": "d19bc08c",
   "metadata": {},
   "outputs": [],
   "source": [
    "features = tweets_df['cleaned_tweets']\n",
    "labels = tweets_df['label'].astype(\"int\")"
   ]
  },
  {
   "cell_type": "code",
   "execution_count": 4,
   "id": "89ea4989",
   "metadata": {},
   "outputs": [],
   "source": [
    "from sklearn.model_selection import train_test_split\n",
    "feature_train, feature_test, label_train, label_test = train_test_split(features, labels, test_size=0.25, random_state=42)"
   ]
  },
  {
   "cell_type": "code",
   "execution_count": 5,
   "id": "64d4c8c0",
   "metadata": {},
   "outputs": [
    {
     "name": "stdout",
     "output_type": "stream",
     "text": [
      "The no of Training data:  21431\n",
      "The no of Testing data: 7144\n"
     ]
    }
   ],
   "source": [
    "print(\"The no of Training data: \", feature_train.shape[0])\n",
    "print(\"The no of Testing data:\",feature_test.shape[0])"
   ]
  },
  {
   "cell_type": "code",
   "execution_count": 6,
   "id": "85f76f9b",
   "metadata": {},
   "outputs": [],
   "source": [
    "from sklearn.feature_extraction.text import TfidfVectorizer\n",
    "from sklearn.pipeline import Pipeline\n",
    "from sklearn.svm import SVC\n",
    "svm_model = Pipeline([('vect', TfidfVectorizer()), ('model', SVC())])"
   ]
  },
  {
   "cell_type": "code",
   "execution_count": 7,
   "id": "2a4035ae",
   "metadata": {},
   "outputs": [],
   "source": [
    "svm_model.fit(feature_train,label_train)\n",
    "svm_prediction = svm_model.predict(feature_test)"
   ]
  },
  {
   "cell_type": "code",
   "execution_count": 8,
   "id": "630a502f",
   "metadata": {},
   "outputs": [
    {
     "name": "stdout",
     "output_type": "stream",
     "text": [
      "accuracy 0.7842945128779395\n",
      "              precision    recall  f1-score   support\n",
      "\n",
      "           0       0.79      0.74      0.76      3386\n",
      "           1       0.78      0.83      0.80      3758\n",
      "\n",
      "    accuracy                           0.78      7144\n",
      "   macro avg       0.79      0.78      0.78      7144\n",
      "weighted avg       0.78      0.78      0.78      7144\n",
      "\n"
     ]
    }
   ],
   "source": [
    "from sklearn.metrics import accuracy_score\n",
    "from sklearn.metrics import classification_report\n",
    "print('accuracy %s' % accuracy_score(svm_prediction, label_test))\n",
    "print(classification_report(label_test, svm_prediction))"
   ]
  },
  {
   "cell_type": "code",
   "execution_count": 9,
   "id": "de4e38f2",
   "metadata": {},
   "outputs": [
    {
     "name": "stdout",
     "output_type": "stream",
     "text": [
      "हामिले कोरोना लागेको मान्छेलाई सहयोग गर्नुपर्छ Positive\n",
      "कोरोना ले कैयों को जागिर खोसिदियो Negative\n",
      "कोरोनाले ज्यान लियो Negative\n"
     ]
    }
   ],
   "source": [
    "import numpy as np\n",
    "nepali_text=[[\"हामिले कोरोना लागेको मान्छेलाई सहयोग गर्नुपर्छ\"],[\"कोरोना ले कैयों को जागिर खोसिदियो\"],[\"कोरोनाले ज्यान लियो\"]]\n",
    "for text in nepali_text:\n",
    "    if np.squeeze(svm_model.predict(text))==1: \n",
    "        print(\"%s\"%(np.squeeze(text)),\"Positive\")\n",
    "    else:\n",
    "        print(\"%s\"%(np.squeeze(text)),\"Negative\")"
   ]
  },
  {
   "cell_type": "code",
   "execution_count": 10,
   "id": "a4c75134",
   "metadata": {},
   "outputs": [
    {
     "name": "stdout",
     "output_type": "stream",
     "text": [
      "accuracy 0.7113661814109743\n",
      "              precision    recall  f1-score   support\n",
      "\n",
      "           0       0.68      0.73      0.70      3386\n",
      "           1       0.74      0.70      0.72      3758\n",
      "\n",
      "    accuracy                           0.71      7144\n",
      "   macro avg       0.71      0.71      0.71      7144\n",
      "weighted avg       0.71      0.71      0.71      7144\n",
      "\n"
     ]
    }
   ],
   "source": [
    "from sklearn.naive_bayes import BernoulliNB\n",
    "nb_model = Pipeline([('vect', TfidfVectorizer()), ('model', BernoulliNB())])\n",
    "nb_model.fit(feature_train,label_train)\n",
    "nb_prediction = nb_model.predict(feature_test)\n",
    "print('accuracy %s' % accuracy_score(nb_prediction, label_test))\n",
    "print(classification_report(label_test, nb_prediction))"
   ]
  },
  {
   "cell_type": "code",
   "execution_count": 11,
   "id": "407197ec",
   "metadata": {},
   "outputs": [
    {
     "name": "stdout",
     "output_type": "stream",
     "text": [
      "accuracy 0.7516797312430011\n",
      "              precision    recall  f1-score   support\n",
      "\n",
      "           0       0.75      0.71      0.73      3386\n",
      "           1       0.75      0.79      0.77      3758\n",
      "\n",
      "    accuracy                           0.75      7144\n",
      "   macro avg       0.75      0.75      0.75      7144\n",
      "weighted avg       0.75      0.75      0.75      7144\n",
      "\n"
     ]
    }
   ],
   "source": [
    "from sklearn.linear_model import LogisticRegression\n",
    "lr_model = Pipeline([('vect', TfidfVectorizer()), ('model', LogisticRegression())])\n",
    "lr_model.fit(feature_train,label_train)\n",
    "lr_prediction = lr_model.predict(feature_test)\n",
    "print('accuracy %s' % accuracy_score(lr_prediction, label_test))\n",
    "print(classification_report(label_test, lr_prediction))"
   ]
  },
  {
   "cell_type": "code",
   "execution_count": 12,
   "id": "9c4c7458",
   "metadata": {},
   "outputs": [
    {
     "name": "stdout",
     "output_type": "stream",
     "text": [
      "accuracy 0.7472004479283315\n",
      "              precision    recall  f1-score   support\n",
      "\n",
      "           0       0.77      0.67      0.72      3386\n",
      "           1       0.73      0.82      0.77      3758\n",
      "\n",
      "    accuracy                           0.75      7144\n",
      "   macro avg       0.75      0.74      0.74      7144\n",
      "weighted avg       0.75      0.75      0.75      7144\n",
      "\n"
     ]
    }
   ],
   "source": [
    "from xgboost import XGBClassifier\n",
    "xgb_model = Pipeline([('vect', TfidfVectorizer()), ('model', XGBClassifier(objective=\"binary:logistic\", random_state=42))])\n",
    "xgb_model.fit(feature_train,label_train)\n",
    "xgb_prediction = xgb_model.predict(feature_test)\n",
    "print('accuracy %s' % accuracy_score(xgb_prediction, label_test))\n",
    "print(classification_report(label_test, xgb_prediction))"
   ]
  },
  {
   "cell_type": "code",
   "execution_count": 13,
   "id": "f5f50b02",
   "metadata": {},
   "outputs": [
    {
     "name": "stdout",
     "output_type": "stream",
     "text": [
      "accuracy 0.7667973124300111\n",
      "              precision    recall  f1-score   support\n",
      "\n",
      "           0       0.76      0.75      0.75      3386\n",
      "           1       0.78      0.78      0.78      3758\n",
      "\n",
      "    accuracy                           0.77      7144\n",
      "   macro avg       0.77      0.77      0.77      7144\n",
      "weighted avg       0.77      0.77      0.77      7144\n",
      "\n"
     ]
    }
   ],
   "source": [
    "from sklearn.neural_network import MLPClassifier\n",
    "mlp_model = Pipeline([('vect', TfidfVectorizer()), ('model', MLPClassifier())])\n",
    "mlp_model.fit(feature_train,label_train)\n",
    "mlp_prediction = mlp_model.predict(feature_test)\n",
    "print('accuracy %s' % accuracy_score(mlp_prediction, label_test))\n",
    "print(classification_report(label_test, mlp_prediction))"
   ]
  },
  {
   "cell_type": "code",
   "execution_count": 14,
   "id": "9cd745e4",
   "metadata": {},
   "outputs": [],
   "source": [
    "#lstm\n",
    "from keras.models import Sequential\n",
    "from keras.layers import Dense\n",
    "from keras.layers import LSTM\n",
    "from keras.layers import Dropout\n",
    "from tensorflow.keras.layers import Embedding\n",
    "from keras.layers.convolutional import Conv1D\n",
    "from keras.layers.convolutional import MaxPooling1D"
   ]
  },
  {
   "cell_type": "code",
   "execution_count": 23,
   "id": "9c1abd36",
   "metadata": {
    "scrolled": true
   },
   "outputs": [
    {
     "name": "stdout",
     "output_type": "stream",
     "text": [
      "Model: \"sequential_4\"\n",
      "_________________________________________________________________\n",
      " Layer (type)                Output Shape              Param #   \n",
      "=================================================================\n",
      " embedding_4 (Embedding)     (None, None, 100)         3000000   \n",
      "                                                                 \n",
      " conv1d_4 (Conv1D)           (None, None, 32)          9632      \n",
      "                                                                 \n",
      " max_pooling1d_4 (MaxPooling  (None, None, 32)         0         \n",
      " 1D)                                                             \n",
      "                                                                 \n",
      " lstm_4 (LSTM)               (None, 128)               82432     \n",
      "                                                                 \n",
      " dropout_4 (Dropout)         (None, 128)               0         \n",
      "                                                                 \n",
      " dense_4 (Dense)             (None, 1)                 129       \n",
      "                                                                 \n",
      "=================================================================\n",
      "Total params: 3,092,193\n",
      "Trainable params: 3,092,193\n",
      "Non-trainable params: 0\n",
      "_________________________________________________________________\n",
      "None\n",
      "Epoch 1/20\n"
     ]
    },
    {
     "ename": "ValueError",
     "evalue": "in user code:\n\n    File \"C:\\Users\\PREDATOR\\AppData\\Local\\Programs\\Python\\Python39\\lib\\site-packages\\keras\\engine\\training.py\", line 1051, in train_function  *\n        return step_function(self, iterator)\n    File \"C:\\Users\\PREDATOR\\AppData\\Local\\Programs\\Python\\Python39\\lib\\site-packages\\keras\\engine\\training.py\", line 1040, in step_function  **\n        outputs = model.distribute_strategy.run(run_step, args=(data,))\n    File \"C:\\Users\\PREDATOR\\AppData\\Local\\Programs\\Python\\Python39\\lib\\site-packages\\keras\\engine\\training.py\", line 1030, in run_step  **\n        outputs = model.train_step(data)\n    File \"C:\\Users\\PREDATOR\\AppData\\Local\\Programs\\Python\\Python39\\lib\\site-packages\\keras\\engine\\training.py\", line 889, in train_step\n        y_pred = self(x, training=True)\n    File \"C:\\Users\\PREDATOR\\AppData\\Local\\Programs\\Python\\Python39\\lib\\site-packages\\keras\\utils\\traceback_utils.py\", line 67, in error_handler\n        raise e.with_traceback(filtered_tb) from None\n    File \"C:\\Users\\PREDATOR\\AppData\\Local\\Programs\\Python\\Python39\\lib\\site-packages\\keras\\backend.py\", line 6106, in pool2d\n        x = tf.compat.v1.nn.max_pool(\n\n    ValueError: Exception encountered when calling layer \"max_pooling1d_4\" (type MaxPooling1D).\n    \n    Negative dimension size caused by subtracting 2 from 1 for '{{node sequential_4/max_pooling1d_4/MaxPool}} = MaxPool[T=DT_FLOAT, data_format=\"NHWC\", explicit_paddings=[], ksize=[1, 2, 1, 1], padding=\"VALID\", strides=[1, 2, 1, 1]](sequential_4/max_pooling1d_4/ExpandDims)' with input shapes: [?,1,1,32].\n    \n    Call arguments received by layer \"max_pooling1d_4\" (type MaxPooling1D):\n      • inputs=tf.Tensor(shape=(None, 1, 32), dtype=float32)\n",
     "output_type": "error",
     "traceback": [
      "\u001b[1;31m---------------------------------------------------------------------------\u001b[0m",
      "\u001b[1;31mValueError\u001b[0m                                Traceback (most recent call last)",
      "Input \u001b[1;32mIn [23]\u001b[0m, in \u001b[0;36m<cell line: 18>\u001b[1;34m()\u001b[0m\n\u001b[0;32m     16\u001b[0m model\u001b[38;5;241m.\u001b[39mcompile(loss\u001b[38;5;241m=\u001b[39m\u001b[38;5;124m'\u001b[39m\u001b[38;5;124mbinary_crossentropy\u001b[39m\u001b[38;5;124m'\u001b[39m, optimizer\u001b[38;5;241m=\u001b[39m\u001b[38;5;124m'\u001b[39m\u001b[38;5;124madam\u001b[39m\u001b[38;5;124m'\u001b[39m, metrics\u001b[38;5;241m=\u001b[39m[\u001b[38;5;124m'\u001b[39m\u001b[38;5;124maccuracy\u001b[39m\u001b[38;5;124m'\u001b[39m])\n\u001b[0;32m     17\u001b[0m \u001b[38;5;28mprint\u001b[39m(model\u001b[38;5;241m.\u001b[39msummary())\n\u001b[1;32m---> 18\u001b[0m \u001b[43mmodel\u001b[49m\u001b[38;5;241;43m.\u001b[39;49m\u001b[43mfit\u001b[49m\u001b[43m(\u001b[49m\u001b[43mfeature_train\u001b[49m\u001b[43m,\u001b[49m\u001b[43m \u001b[49m\u001b[43mlabel_train\u001b[49m\u001b[43m,\u001b[49m\u001b[43m \u001b[49m\u001b[43mepochs\u001b[49m\u001b[38;5;241;43m=\u001b[39;49m\u001b[38;5;241;43m20\u001b[39;49m\u001b[43m,\u001b[49m\u001b[43m \u001b[49m\u001b[43mbatch_size\u001b[49m\u001b[38;5;241;43m=\u001b[39;49m\u001b[38;5;241;43m64\u001b[39;49m\u001b[43m)\u001b[49m\n\u001b[0;32m     19\u001b[0m scores \u001b[38;5;241m=\u001b[39m model\u001b[38;5;241m.\u001b[39mevaluate(feature_test, label_test, verbose\u001b[38;5;241m=\u001b[39m\u001b[38;5;241m0\u001b[39m)\n\u001b[0;32m     20\u001b[0m \u001b[38;5;28mprint\u001b[39m(\u001b[38;5;124m\"\u001b[39m\u001b[38;5;124mAccuracy: \u001b[39m\u001b[38;5;132;01m%.2f\u001b[39;00m\u001b[38;5;132;01m%%\u001b[39;00m\u001b[38;5;124m\"\u001b[39m \u001b[38;5;241m%\u001b[39m (scores[\u001b[38;5;241m1\u001b[39m]\u001b[38;5;241m*\u001b[39m\u001b[38;5;241m100\u001b[39m))\n",
      "File \u001b[1;32m~\\AppData\\Local\\Programs\\Python\\Python39\\lib\\site-packages\\keras\\utils\\traceback_utils.py:67\u001b[0m, in \u001b[0;36mfilter_traceback.<locals>.error_handler\u001b[1;34m(*args, **kwargs)\u001b[0m\n\u001b[0;32m     65\u001b[0m \u001b[38;5;28;01mexcept\u001b[39;00m \u001b[38;5;167;01mException\u001b[39;00m \u001b[38;5;28;01mas\u001b[39;00m e:  \u001b[38;5;66;03m# pylint: disable=broad-except\u001b[39;00m\n\u001b[0;32m     66\u001b[0m   filtered_tb \u001b[38;5;241m=\u001b[39m _process_traceback_frames(e\u001b[38;5;241m.\u001b[39m__traceback__)\n\u001b[1;32m---> 67\u001b[0m   \u001b[38;5;28;01mraise\u001b[39;00m e\u001b[38;5;241m.\u001b[39mwith_traceback(filtered_tb) \u001b[38;5;28;01mfrom\u001b[39;00m \u001b[38;5;28mNone\u001b[39m\n\u001b[0;32m     68\u001b[0m \u001b[38;5;28;01mfinally\u001b[39;00m:\n\u001b[0;32m     69\u001b[0m   \u001b[38;5;28;01mdel\u001b[39;00m filtered_tb\n",
      "File \u001b[1;32m~\\AppData\\Local\\Temp\\__autograph_generated_filer9rzecfc.py:15\u001b[0m, in \u001b[0;36mouter_factory.<locals>.inner_factory.<locals>.tf__train_function\u001b[1;34m(iterator)\u001b[0m\n\u001b[0;32m     13\u001b[0m \u001b[38;5;28;01mtry\u001b[39;00m:\n\u001b[0;32m     14\u001b[0m     do_return \u001b[38;5;241m=\u001b[39m \u001b[38;5;28;01mTrue\u001b[39;00m\n\u001b[1;32m---> 15\u001b[0m     retval_ \u001b[38;5;241m=\u001b[39m ag__\u001b[38;5;241m.\u001b[39mconverted_call(ag__\u001b[38;5;241m.\u001b[39mld(step_function), (ag__\u001b[38;5;241m.\u001b[39mld(\u001b[38;5;28mself\u001b[39m), ag__\u001b[38;5;241m.\u001b[39mld(iterator)), \u001b[38;5;28;01mNone\u001b[39;00m, fscope)\n\u001b[0;32m     16\u001b[0m \u001b[38;5;28;01mexcept\u001b[39;00m:\n\u001b[0;32m     17\u001b[0m     do_return \u001b[38;5;241m=\u001b[39m \u001b[38;5;28;01mFalse\u001b[39;00m\n",
      "\u001b[1;31mValueError\u001b[0m: in user code:\n\n    File \"C:\\Users\\PREDATOR\\AppData\\Local\\Programs\\Python\\Python39\\lib\\site-packages\\keras\\engine\\training.py\", line 1051, in train_function  *\n        return step_function(self, iterator)\n    File \"C:\\Users\\PREDATOR\\AppData\\Local\\Programs\\Python\\Python39\\lib\\site-packages\\keras\\engine\\training.py\", line 1040, in step_function  **\n        outputs = model.distribute_strategy.run(run_step, args=(data,))\n    File \"C:\\Users\\PREDATOR\\AppData\\Local\\Programs\\Python\\Python39\\lib\\site-packages\\keras\\engine\\training.py\", line 1030, in run_step  **\n        outputs = model.train_step(data)\n    File \"C:\\Users\\PREDATOR\\AppData\\Local\\Programs\\Python\\Python39\\lib\\site-packages\\keras\\engine\\training.py\", line 889, in train_step\n        y_pred = self(x, training=True)\n    File \"C:\\Users\\PREDATOR\\AppData\\Local\\Programs\\Python\\Python39\\lib\\site-packages\\keras\\utils\\traceback_utils.py\", line 67, in error_handler\n        raise e.with_traceback(filtered_tb) from None\n    File \"C:\\Users\\PREDATOR\\AppData\\Local\\Programs\\Python\\Python39\\lib\\site-packages\\keras\\backend.py\", line 6106, in pool2d\n        x = tf.compat.v1.nn.max_pool(\n\n    ValueError: Exception encountered when calling layer \"max_pooling1d_4\" (type MaxPooling1D).\n    \n    Negative dimension size caused by subtracting 2 from 1 for '{{node sequential_4/max_pooling1d_4/MaxPool}} = MaxPool[T=DT_FLOAT, data_format=\"NHWC\", explicit_paddings=[], ksize=[1, 2, 1, 1], padding=\"VALID\", strides=[1, 2, 1, 1]](sequential_4/max_pooling1d_4/ExpandDims)' with input shapes: [?,1,1,32].\n    \n    Call arguments received by layer \"max_pooling1d_4\" (type MaxPooling1D):\n      • inputs=tf.Tensor(shape=(None, 1, 32), dtype=float32)\n"
     ]
    }
   ],
   "source": [
    "# import numpy as np\n",
    "# from sklearn.feature_extraction.text import TfidfVectorizer\n",
    "tfidf_vectorizer = TfidfVectorizer()\n",
    "def tfidf_features(feature_train, feature_test):\n",
    "    feature_train_tfidf = tfidf_vectorizer.fit_transform(feature_train).toarray()\n",
    "    feature_test_tfidf = tfidf_vectorizer.transform(feature_test).toarray()\n",
    "    return feature_train_tfidf,feature_test_tfidf,tfidf_vectorizer.vocabulary_\n",
    "feature_train_tfidf,feature_test_tfidf,vocabulary=tfidf_features(feature_train,feature_test)\n",
    "model = Sequential()\n",
    "model.add(Embedding(30000, 32))\n",
    "model.add(Conv1D(filters=32, kernel_size=3, padding='same', activation='relu'))\n",
    "model.add(MaxPooling1D(pool_size=2))\n",
    "model.add(LSTM(128))\n",
    "model.add(Dropout(0.2))\n",
    "model.add(Dense(1, activation='sigmoid'))\n",
    "model.compile(loss='binary_crossentropy', optimizer='adam', metrics=['accuracy'])\n",
    "print(model.summary())\n",
    "model.fit(feature_train_tfidf, label_train, epochs=20, batch_size=64)\n",
    "scores = model.evaluate(feature_test_tfidf, label_test, verbose=0)\n",
    "print(\"Accuracy: %.2f%%\" % (scores[1]*100))"
   ]
  },
  {
   "cell_type": "code",
   "execution_count": 20,
   "id": "df7a266f",
   "metadata": {},
   "outputs": [
    {
     "name": "stdout",
     "output_type": "stream",
     "text": [
      "224/224 [==============================] - 53s 233ms/step\n"
     ]
    }
   ],
   "source": [
    "prediction = model.predict(feature_test_tfidf)"
   ]
  },
  {
   "cell_type": "code",
   "execution_count": 21,
   "id": "8df78d8a",
   "metadata": {},
   "outputs": [
    {
     "data": {
      "text/plain": [
       "array([[0.524761],\n",
       "       [0.524761],\n",
       "       [0.524761],\n",
       "       [0.524761],\n",
       "       ...,\n",
       "       [0.524761],\n",
       "       [0.524761],\n",
       "       [0.524761],\n",
       "       [0.524761]], dtype=float32)"
      ]
     },
     "execution_count": 21,
     "metadata": {},
     "output_type": "execute_result"
    }
   ],
   "source": [
    "# print('accuracy %s' % accuracy_score(prediction, label_test))\n",
    "# print(classification_report(label_test, prediction))\n",
    "# scores\n",
    "prediction"
   ]
  },
  {
   "cell_type": "code",
   "execution_count": null,
   "id": "efb25c95",
   "metadata": {},
   "outputs": [],
   "source": []
  }
 ],
 "metadata": {
  "interpreter": {
   "hash": "3b3361eea9ad770e1b9ddf2a02c07134d9907bc8d69d7867e0b684ae753730c4"
  },
  "kernelspec": {
   "display_name": "Python 3 (ipykernel)",
   "language": "python",
   "name": "python3"
  },
  "language_info": {
   "codemirror_mode": {
    "name": "ipython",
    "version": 3
   },
   "file_extension": ".py",
   "mimetype": "text/x-python",
   "name": "python",
   "nbconvert_exporter": "python",
   "pygments_lexer": "ipython3",
   "version": "3.9.12"
  }
 },
 "nbformat": 4,
 "nbformat_minor": 5
}
